{
 "cells": [
  {
   "cell_type": "code",
   "execution_count": 150,
   "metadata": {},
   "outputs": [],
   "source": [
    "# Exercício de Análise de doenças de soja"
   ]
  },
  {
   "cell_type": "code",
   "execution_count": 151,
   "metadata": {},
   "outputs": [],
   "source": [
    "# Import de bibliotecas\n",
    "import pandas as pd\n",
    "from keras.models import Sequential\n",
    "from keras.layers import Dense, Dropout\n",
    "from sklearn.metrics import confusion_matrix\n",
    "from sklearn.preprocessing import LabelEncoder\n",
    "from sklearn.model_selection import train_test_split\n",
    "from sklearn.naive_bayes import GaussianNB\n",
    "from sklearn.metrics import confusion_matrix, accuracy_score\n",
    "from sklearn.ensemble import ExtraTreesClassifier"
   ]
  },
  {
   "cell_type": "code",
   "execution_count": 152,
   "metadata": {},
   "outputs": [
    {
     "data": {
      "text/html": [
       "<div>\n",
       "<style scoped>\n",
       "    .dataframe tbody tr th:only-of-type {\n",
       "        vertical-align: middle;\n",
       "    }\n",
       "\n",
       "    .dataframe tbody tr th {\n",
       "        vertical-align: top;\n",
       "    }\n",
       "\n",
       "    .dataframe thead th {\n",
       "        text-align: right;\n",
       "    }\n",
       "</style>\n",
       "<table border=\"1\" class=\"dataframe\">\n",
       "  <thead>\n",
       "    <tr style=\"text-align: right;\">\n",
       "      <th></th>\n",
       "      <th>date</th>\n",
       "      <th>plant-stand</th>\n",
       "      <th>precip</th>\n",
       "      <th>temp</th>\n",
       "      <th>hail</th>\n",
       "      <th>crop-hist</th>\n",
       "      <th>area-damaged</th>\n",
       "      <th>severity</th>\n",
       "      <th>seed-tmt</th>\n",
       "      <th>germination</th>\n",
       "      <th>...</th>\n",
       "      <th>sclerotia</th>\n",
       "      <th>fruit-pods</th>\n",
       "      <th>fruit-spots</th>\n",
       "      <th>seed</th>\n",
       "      <th>mold-growth</th>\n",
       "      <th>seed-discolor</th>\n",
       "      <th>seed-size</th>\n",
       "      <th>shriveling</th>\n",
       "      <th>roots</th>\n",
       "      <th>class</th>\n",
       "    </tr>\n",
       "  </thead>\n",
       "  <tbody>\n",
       "    <tr>\n",
       "      <th>0</th>\n",
       "      <td>october</td>\n",
       "      <td>normal</td>\n",
       "      <td>gt-norm</td>\n",
       "      <td>norm</td>\n",
       "      <td>yes</td>\n",
       "      <td>same-lst-yr</td>\n",
       "      <td>low-areas</td>\n",
       "      <td>pot-severe</td>\n",
       "      <td>none</td>\n",
       "      <td>90-100</td>\n",
       "      <td>...</td>\n",
       "      <td>absent</td>\n",
       "      <td>norm</td>\n",
       "      <td>dna</td>\n",
       "      <td>norm</td>\n",
       "      <td>absent</td>\n",
       "      <td>absent</td>\n",
       "      <td>norm</td>\n",
       "      <td>absent</td>\n",
       "      <td>norm</td>\n",
       "      <td>diaporthe-stem-canker</td>\n",
       "    </tr>\n",
       "    <tr>\n",
       "      <th>1</th>\n",
       "      <td>august</td>\n",
       "      <td>normal</td>\n",
       "      <td>gt-norm</td>\n",
       "      <td>norm</td>\n",
       "      <td>yes</td>\n",
       "      <td>same-lst-two-yrs</td>\n",
       "      <td>scattered</td>\n",
       "      <td>severe</td>\n",
       "      <td>fungicide</td>\n",
       "      <td>80-89</td>\n",
       "      <td>...</td>\n",
       "      <td>absent</td>\n",
       "      <td>norm</td>\n",
       "      <td>dna</td>\n",
       "      <td>norm</td>\n",
       "      <td>absent</td>\n",
       "      <td>absent</td>\n",
       "      <td>norm</td>\n",
       "      <td>absent</td>\n",
       "      <td>norm</td>\n",
       "      <td>diaporthe-stem-canker</td>\n",
       "    </tr>\n",
       "    <tr>\n",
       "      <th>2</th>\n",
       "      <td>july</td>\n",
       "      <td>normal</td>\n",
       "      <td>gt-norm</td>\n",
       "      <td>norm</td>\n",
       "      <td>yes</td>\n",
       "      <td>same-lst-yr</td>\n",
       "      <td>scattered</td>\n",
       "      <td>severe</td>\n",
       "      <td>fungicide</td>\n",
       "      <td>lt-80</td>\n",
       "      <td>...</td>\n",
       "      <td>absent</td>\n",
       "      <td>norm</td>\n",
       "      <td>dna</td>\n",
       "      <td>norm</td>\n",
       "      <td>absent</td>\n",
       "      <td>absent</td>\n",
       "      <td>norm</td>\n",
       "      <td>absent</td>\n",
       "      <td>norm</td>\n",
       "      <td>diaporthe-stem-canker</td>\n",
       "    </tr>\n",
       "    <tr>\n",
       "      <th>3</th>\n",
       "      <td>july</td>\n",
       "      <td>normal</td>\n",
       "      <td>gt-norm</td>\n",
       "      <td>norm</td>\n",
       "      <td>yes</td>\n",
       "      <td>same-lst-yr</td>\n",
       "      <td>scattered</td>\n",
       "      <td>severe</td>\n",
       "      <td>none</td>\n",
       "      <td>80-89</td>\n",
       "      <td>...</td>\n",
       "      <td>absent</td>\n",
       "      <td>norm</td>\n",
       "      <td>dna</td>\n",
       "      <td>norm</td>\n",
       "      <td>absent</td>\n",
       "      <td>absent</td>\n",
       "      <td>norm</td>\n",
       "      <td>absent</td>\n",
       "      <td>norm</td>\n",
       "      <td>diaporthe-stem-canker</td>\n",
       "    </tr>\n",
       "    <tr>\n",
       "      <th>4</th>\n",
       "      <td>october</td>\n",
       "      <td>normal</td>\n",
       "      <td>gt-norm</td>\n",
       "      <td>norm</td>\n",
       "      <td>yes</td>\n",
       "      <td>same-lst-two-yrs</td>\n",
       "      <td>scattered</td>\n",
       "      <td>pot-severe</td>\n",
       "      <td>none</td>\n",
       "      <td>lt-80</td>\n",
       "      <td>...</td>\n",
       "      <td>absent</td>\n",
       "      <td>norm</td>\n",
       "      <td>dna</td>\n",
       "      <td>norm</td>\n",
       "      <td>absent</td>\n",
       "      <td>absent</td>\n",
       "      <td>norm</td>\n",
       "      <td>absent</td>\n",
       "      <td>norm</td>\n",
       "      <td>diaporthe-stem-canker</td>\n",
       "    </tr>\n",
       "  </tbody>\n",
       "</table>\n",
       "<p>5 rows × 36 columns</p>\n",
       "</div>"
      ],
      "text/plain": [
       "      date plant-stand   precip  temp hail         crop-hist area-damaged  \\\n",
       "0  october      normal  gt-norm  norm  yes       same-lst-yr    low-areas   \n",
       "1   august      normal  gt-norm  norm  yes  same-lst-two-yrs    scattered   \n",
       "2     july      normal  gt-norm  norm  yes       same-lst-yr    scattered   \n",
       "3     july      normal  gt-norm  norm  yes       same-lst-yr    scattered   \n",
       "4  october      normal  gt-norm  norm  yes  same-lst-two-yrs    scattered   \n",
       "\n",
       "     severity   seed-tmt germination  ... sclerotia fruit-pods fruit-spots  \\\n",
       "0  pot-severe       none      90-100  ...    absent       norm         dna   \n",
       "1      severe  fungicide       80-89  ...    absent       norm         dna   \n",
       "2      severe  fungicide       lt-80  ...    absent       norm         dna   \n",
       "3      severe       none       80-89  ...    absent       norm         dna   \n",
       "4  pot-severe       none       lt-80  ...    absent       norm         dna   \n",
       "\n",
       "   seed mold-growth seed-discolor seed-size shriveling roots  \\\n",
       "0  norm      absent        absent      norm     absent  norm   \n",
       "1  norm      absent        absent      norm     absent  norm   \n",
       "2  norm      absent        absent      norm     absent  norm   \n",
       "3  norm      absent        absent      norm     absent  norm   \n",
       "4  norm      absent        absent      norm     absent  norm   \n",
       "\n",
       "                   class  \n",
       "0  diaporthe-stem-canker  \n",
       "1  diaporthe-stem-canker  \n",
       "2  diaporthe-stem-canker  \n",
       "3  diaporthe-stem-canker  \n",
       "4  diaporthe-stem-canker  \n",
       "\n",
       "[5 rows x 36 columns]"
      ]
     },
     "execution_count": 152,
     "metadata": {},
     "output_type": "execute_result"
    }
   ],
   "source": [
    "# Carregamento da base de dados\n",
    "base = pd.read_csv('./dados/soybean.csv')\n",
    "base.head()"
   ]
  },
  {
   "cell_type": "code",
   "execution_count": 153,
   "metadata": {},
   "outputs": [
    {
     "data": {
      "text/plain": [
       "date                 1\n",
       "plant-stand         36\n",
       "precip              38\n",
       "temp                30\n",
       "hail               121\n",
       "crop-hist           16\n",
       "area-damaged         1\n",
       "severity           121\n",
       "seed-tmt           121\n",
       "germination        112\n",
       "plant-growth        16\n",
       "leaves               0\n",
       "leafspots-halo      84\n",
       "leafspots-marg      84\n",
       "leafspot-size       84\n",
       "leaf-shread        100\n",
       "leaf-malf           84\n",
       "leaf-mild          108\n",
       "stem                16\n",
       "lodging            121\n",
       "stem-cankers        38\n",
       "canker-lesion       38\n",
       "fruiting-bodies    106\n",
       "external-decay      38\n",
       "mycelium            38\n",
       "int-discolor        38\n",
       "sclerotia           38\n",
       "fruit-pods          84\n",
       "fruit-spots        106\n",
       "seed                92\n",
       "mold-growth         92\n",
       "seed-discolor      106\n",
       "seed-size           92\n",
       "shriveling         106\n",
       "roots               31\n",
       "class                0\n",
       "dtype: int64"
      ]
     },
     "execution_count": 153,
     "metadata": {},
     "output_type": "execute_result"
    }
   ],
   "source": [
    "# Campos onde tem valor nulo(?)\n",
    "base.eq('?').sum()"
   ]
  },
  {
   "cell_type": "code",
   "execution_count": 154,
   "metadata": {},
   "outputs": [],
   "source": [
    "# limpar a base onde severity = '?'\n",
    "base = base.loc[base['severity'] != '?']"
   ]
  },
  {
   "cell_type": "code",
   "execution_count": 155,
   "metadata": {},
   "outputs": [
    {
     "data": {
      "text/plain": [
       "date               0\n",
       "plant-stand        0\n",
       "precip             0\n",
       "temp               0\n",
       "hail               0\n",
       "crop-hist          0\n",
       "area-damaged       0\n",
       "severity           0\n",
       "seed-tmt           0\n",
       "germination        0\n",
       "plant-growth       0\n",
       "leaves             0\n",
       "leafspots-halo     0\n",
       "leafspots-marg     0\n",
       "leafspot-size      0\n",
       "leaf-shread        0\n",
       "leaf-malf          0\n",
       "leaf-mild          0\n",
       "stem               0\n",
       "lodging            0\n",
       "stem-cankers       0\n",
       "canker-lesion      0\n",
       "fruiting-bodies    0\n",
       "external-decay     0\n",
       "mycelium           0\n",
       "int-discolor       0\n",
       "sclerotia          0\n",
       "fruit-pods         0\n",
       "fruit-spots        0\n",
       "seed               0\n",
       "mold-growth        0\n",
       "seed-discolor      0\n",
       "seed-size          0\n",
       "shriveling         0\n",
       "roots              0\n",
       "class              0\n",
       "dtype: int64"
      ]
     },
     "execution_count": 155,
     "metadata": {},
     "output_type": "execute_result"
    }
   ],
   "source": [
    "# Verificar se ainda há outros campos marcados como nulo\n",
    "base.eq('?').sum()"
   ]
  },
  {
   "cell_type": "code",
   "execution_count": 156,
   "metadata": {},
   "outputs": [
    {
     "data": {
      "text/plain": [
       "(562, 36)"
      ]
     },
     "execution_count": 156,
     "metadata": {},
     "output_type": "execute_result"
    }
   ],
   "source": [
    "# Verificar quantas instâncias permaneceram na base\n",
    "base.shape"
   ]
  },
  {
   "cell_type": "code",
   "execution_count": 157,
   "metadata": {},
   "outputs": [
    {
     "data": {
      "text/plain": [
       "Index(['date', 'plant-stand', 'precip', 'temp', 'hail', 'crop-hist',\n",
       "       'area-damaged', 'severity', 'seed-tmt', 'germination', 'plant-growth',\n",
       "       'leaves', 'leafspots-halo', 'leafspots-marg', 'leafspot-size',\n",
       "       'leaf-shread', 'leaf-malf', 'leaf-mild', 'stem', 'lodging',\n",
       "       'stem-cankers', 'canker-lesion', 'fruiting-bodies', 'external-decay',\n",
       "       'mycelium', 'int-discolor', 'sclerotia', 'fruit-pods', 'fruit-spots',\n",
       "       'seed', 'mold-growth', 'seed-discolor', 'seed-size', 'shriveling',\n",
       "       'roots', 'class'],\n",
       "      dtype='object')"
      ]
     },
     "execution_count": 157,
     "metadata": {},
     "output_type": "execute_result"
    }
   ],
   "source": [
    "# verificar novamente nome dos atributos\n",
    "base.columns"
   ]
  },
  {
   "cell_type": "code",
   "execution_count": 158,
   "metadata": {},
   "outputs": [
    {
     "data": {
      "text/plain": [
       "date\n",
       "april         19\n",
       "august       118\n",
       "july          86\n",
       "june          66\n",
       "may           51\n",
       "october       82\n",
       "september    140\n",
       "dtype: int64"
      ]
     },
     "execution_count": 158,
     "metadata": {},
     "output_type": "execute_result"
    }
   ],
   "source": [
    "# Agrupado por mês\n",
    "agrupado = base.groupby(['date']).size()\n",
    "agrupado"
   ]
  },
  {
   "cell_type": "code",
   "execution_count": 159,
   "metadata": {},
   "outputs": [
    {
     "data": {
      "text/plain": [
       "plant-stand\n",
       "lt-normal    215\n",
       "normal       347\n",
       "dtype: int64"
      ]
     },
     "execution_count": 159,
     "metadata": {},
     "output_type": "execute_result"
    }
   ],
   "source": [
    "# Agrupado por padrão de plantas\n",
    "agrupado2 = base.groupby(['plant-stand']).size()\n",
    "agrupado2"
   ]
  },
  {
   "cell_type": "code",
   "execution_count": 160,
   "metadata": {},
   "outputs": [
    {
     "data": {
      "text/plain": [
       "precip\n",
       "gt-norm    404\n",
       "lt-norm     74\n",
       "norm        84\n",
       "dtype: int64"
      ]
     },
     "execution_count": 160,
     "metadata": {},
     "output_type": "execute_result"
    }
   ],
   "source": [
    "# Agrupado por padrão de plantas\n",
    "agrupado3 = base.groupby(['precip']).size()\n",
    "agrupado3"
   ]
  },
  {
   "cell_type": "code",
   "execution_count": 161,
   "metadata": {},
   "outputs": [
    {
     "data": {
      "text/plain": [
       "array([['october', 'normal', 'gt-norm', ..., 'norm', 'absent', 'norm'],\n",
       "       ['august', 'normal', 'gt-norm', ..., 'norm', 'absent', 'norm'],\n",
       "       ['july', 'normal', 'gt-norm', ..., 'norm', 'absent', 'norm'],\n",
       "       ...,\n",
       "       ['october', 'lt-normal', 'gt-norm', ..., 'norm', 'absent', 'norm'],\n",
       "       ['august', 'normal', 'gt-norm', ..., 'norm', 'absent', 'norm'],\n",
       "       ['september', 'normal', 'gt-norm', ..., 'norm', 'absent', 'norm']],\n",
       "      dtype=object)"
      ]
     },
     "execution_count": 161,
     "metadata": {},
     "output_type": "execute_result"
    }
   ],
   "source": [
    "# Formato de matriz\n",
    "previsores = base.iloc[:, 0:35].values\n",
    "classe = base.iloc[:, 35].values\n",
    "previsores\n",
    "#classe"
   ]
  },
  {
   "cell_type": "code",
   "execution_count": 162,
   "metadata": {},
   "outputs": [
    {
     "data": {
      "text/plain": [
       "array(['absent', 'norm', 'absent', 'norm'], dtype=object)"
      ]
     },
     "execution_count": 162,
     "metadata": {},
     "output_type": "execute_result"
    }
   ],
   "source": [
    "previsores[1,31:36]"
   ]
  },
  {
   "cell_type": "code",
   "execution_count": 163,
   "metadata": {},
   "outputs": [],
   "source": [
    "# processo de label enconder das colunas categóricas\n",
    "labelencoder0 = LabelEncoder()\n",
    "previsores[:, 0] = labelencoder0.fit_transform(previsores[:, 0])\n",
    "labelencoder1 = LabelEncoder()\n",
    "previsores[:, 1] = labelencoder1.fit_transform(previsores[:, 1])\n",
    "labelencoder2 = LabelEncoder()\n",
    "previsores[:, 2] = labelencoder2.fit_transform(previsores[:, 2])\n",
    "labelencoder3 = LabelEncoder()\n",
    "previsores[:, 3] = labelencoder3.fit_transform(previsores[:, 3])\n",
    "labelencoder4 = LabelEncoder()\n",
    "previsores[:, 4] = labelencoder4.fit_transform(previsores[:, 4])\n",
    "labelencoder5 = LabelEncoder()\n",
    "previsores[:, 5] = labelencoder5.fit_transform(previsores[:, 5])\n",
    "labelencoder6 = LabelEncoder()\n",
    "previsores[:, 6] = labelencoder6.fit_transform(previsores[:, 6])\n",
    "labelencoder7 = LabelEncoder()\n",
    "previsores[:, 7] = labelencoder7.fit_transform(previsores[:, 7])\n",
    "labelencoder8 = LabelEncoder()\n",
    "previsores[:, 8] = labelencoder8.fit_transform(previsores[:, 8])\n",
    "labelencoder9 = LabelEncoder()\n",
    "previsores[:, 9] = labelencoder9.fit_transform(previsores[:, 9])\n",
    "labelencoder10 = LabelEncoder()\n",
    "previsores[:, 10] = labelencoder10.fit_transform(previsores[:, 10])\n",
    "labelencoder11 = LabelEncoder()\n",
    "previsores[:, 11] = labelencoder11.fit_transform(previsores[:, 11])\n",
    "labelencoder12 = LabelEncoder()\n",
    "previsores[:, 12] = labelencoder12.fit_transform(previsores[:, 12])\n",
    "labelencoder13 = LabelEncoder()\n",
    "previsores[:, 13] = labelencoder13.fit_transform(previsores[:, 13])\n",
    "labelencoder14 = LabelEncoder()\n",
    "previsores[:, 14] = labelencoder14.fit_transform(previsores[:, 14])\n",
    "labelencoder15 = LabelEncoder()\n",
    "previsores[:, 15] = labelencoder15.fit_transform(previsores[:, 15])\n",
    "labelencoder16 = LabelEncoder()\n",
    "previsores[:, 16] = labelencoder16.fit_transform(previsores[:, 16])\n",
    "labelencoder17 = LabelEncoder()\n",
    "previsores[:, 17] = labelencoder17.fit_transform(previsores[:, 17])\n",
    "labelencoder18 = LabelEncoder()\n",
    "previsores[:, 18] = labelencoder18.fit_transform(previsores[:, 18])\n",
    "labelencoder19 = LabelEncoder()\n",
    "previsores[:, 19] = labelencoder19.fit_transform(previsores[:, 19])\n",
    "labelencoder20 = LabelEncoder()\n",
    "previsores[:, 20] = labelencoder20.fit_transform(previsores[:, 20])\n",
    "labelencoder21 = LabelEncoder()\n",
    "previsores[:, 21] = labelencoder21.fit_transform(previsores[:, 21])\n",
    "labelencoder22 = LabelEncoder()\n",
    "previsores[:, 22] = labelencoder22.fit_transform(previsores[:, 22])\n",
    "labelencoder23 = LabelEncoder()\n",
    "previsores[:, 23] = labelencoder23.fit_transform(previsores[:, 23])\n",
    "labelencoder24 = LabelEncoder()\n",
    "previsores[:, 24] = labelencoder24.fit_transform(previsores[:, 24])\n",
    "labelencoder25 = LabelEncoder()\n",
    "previsores[:, 25] = labelencoder25.fit_transform(previsores[:, 25])\n",
    "labelencoder26 = LabelEncoder()\n",
    "previsores[:, 26] = labelencoder26.fit_transform(previsores[:, 26])\n",
    "labelencoder27 = LabelEncoder()\n",
    "previsores[:, 27] = labelencoder27.fit_transform(previsores[:, 27])\n",
    "labelencoder28 = LabelEncoder()\n",
    "previsores[:, 28] = labelencoder28.fit_transform(previsores[:, 28])\n",
    "labelencoder29 = LabelEncoder()\n",
    "previsores[:, 29] = labelencoder29.fit_transform(previsores[:, 29])\n",
    "labelencoder30 = LabelEncoder()\n",
    "previsores[:, 30] = labelencoder30.fit_transform(previsores[:, 30])\n",
    "labelencoder31 = LabelEncoder()\n",
    "previsores[:, 31] = labelencoder31.fit_transform(previsores[:, 31])\n",
    "labelencoder32 = LabelEncoder()\n",
    "previsores[:, 32] = labelencoder32.fit_transform(previsores[:, 32])\n",
    "labelencoder33 = LabelEncoder()\n",
    "previsores[:, 33] = labelencoder33.fit_transform(previsores[:, 33])\n",
    "labelencoder34 = LabelEncoder()\n",
    "previsores[:, 34] = labelencoder34.fit_transform(previsores[:, 34])"
   ]
  },
  {
   "cell_type": "code",
   "execution_count": 164,
   "metadata": {},
   "outputs": [
    {
     "data": {
      "text/plain": [
       "array([[5, 1, 0, ..., 1, 0, 1],\n",
       "       [1, 1, 0, ..., 1, 0, 1],\n",
       "       [2, 1, 0, ..., 1, 0, 1],\n",
       "       ...,\n",
       "       [5, 0, 0, ..., 1, 0, 1],\n",
       "       [1, 1, 0, ..., 1, 0, 1],\n",
       "       [6, 1, 0, ..., 1, 0, 1]], dtype=object)"
      ]
     },
     "execution_count": 164,
     "metadata": {},
     "output_type": "execute_result"
    }
   ],
   "source": [
    "previsores"
   ]
  },
  {
   "cell_type": "code",
   "execution_count": 165,
   "metadata": {},
   "outputs": [
    {
     "name": "stdout",
     "output_type": "stream",
     "text": [
      "393\n"
     ]
    }
   ],
   "source": [
    "# separa a base em treino e teste\n",
    "x_treino, x_teste, y_treino, y_teste = train_test_split(previsores, classe, test_size = 0.3, random_state = 0)\n",
    "print(len(x_treino))"
   ]
  },
  {
   "cell_type": "code",
   "execution_count": 166,
   "metadata": {},
   "outputs": [
    {
     "data": {
      "text/plain": [
       "GaussianNB()"
      ]
     },
     "execution_count": 166,
     "metadata": {},
     "output_type": "execute_result"
    }
   ],
   "source": [
    "# Aplicando o método naive_bayes\n",
    "naive_bayes = GaussianNB()\n",
    "naive_bayes.fit(x_treino, y_treino)"
   ]
  },
  {
   "cell_type": "code",
   "execution_count": 167,
   "metadata": {},
   "outputs": [],
   "source": [
    "# Previsões utilizando os registros de teste\n",
    "previsoes = naive_bayes.predict(x_teste)"
   ]
  },
  {
   "cell_type": "code",
   "execution_count": 168,
   "metadata": {},
   "outputs": [
    {
     "data": {
      "text/plain": [
       "array([[24,  0,  0,  0,  0,  0,  0,  0,  0,  0,  0,  0,  0,  0,  0],\n",
       "       [ 0, 13,  0,  0,  0,  0,  0,  0,  0,  0,  0,  0,  0,  0,  0],\n",
       "       [ 0,  0,  5,  0,  0,  0,  0,  0,  0,  0,  0,  0,  0,  0,  0],\n",
       "       [ 0,  0,  0,  9,  0,  0,  0,  0,  0,  0,  0,  0,  0,  0,  0],\n",
       "       [13,  0,  0,  0,  8,  0,  0,  0,  0,  0,  4,  0,  0,  0,  0],\n",
       "       [ 0,  0,  0,  0,  0, 14,  0,  0,  0,  0,  0,  0,  0,  0,  0],\n",
       "       [ 0,  0,  0,  0,  0,  0,  9,  0,  0,  0,  0,  0,  0,  0,  0],\n",
       "       [ 0,  1,  0,  0,  0,  0,  0,  5,  0,  0,  0,  0,  0,  0,  0],\n",
       "       [ 0,  0,  0,  0,  0,  0,  0,  0,  7,  0,  0,  0,  0,  0,  0],\n",
       "       [ 7,  0,  0,  0,  0,  0,  0,  0,  0, 22,  2,  0,  0,  0,  0],\n",
       "       [ 2,  0,  0,  0,  0,  0,  0,  0,  0,  0,  6,  0,  0,  0,  0],\n",
       "       [ 0,  0,  0,  0,  0,  0,  0,  0,  0,  0,  0,  5,  0,  0,  0],\n",
       "       [ 0,  0,  0,  0,  0,  0,  0,  0,  0,  0,  0,  0,  6,  0,  0],\n",
       "       [ 0,  0,  0,  0,  0,  0,  0,  0,  0,  0,  0,  0,  0,  5,  0],\n",
       "       [ 0,  0,  0,  0,  0,  0,  0,  0,  0,  0,  0,  0,  0,  0,  2]])"
      ]
     },
     "execution_count": 168,
     "metadata": {},
     "output_type": "execute_result"
    }
   ],
   "source": [
    "# Matriz confusao\n",
    "confusao = confusion_matrix(y_teste, previsoes)\n",
    "confusao"
   ]
  },
  {
   "cell_type": "code",
   "execution_count": 169,
   "metadata": {},
   "outputs": [
    {
     "data": {
      "text/plain": [
       "0.8284023668639053"
      ]
     },
     "execution_count": 169,
     "metadata": {},
     "output_type": "execute_result"
    }
   ],
   "source": [
    "# Taxa de acertos\n",
    "tx_acertos = accuracy_score(y_teste, previsoes)\n",
    "tx_acertos"
   ]
  },
  {
   "cell_type": "code",
   "execution_count": 170,
   "metadata": {},
   "outputs": [],
   "source": [
    "# Nesse momento temos uma taxa de acertos de 82% É uma taxa baixa, podemos diminuir numero de previsores e trocar modelos de previsao."
   ]
  },
  {
   "cell_type": "code",
   "execution_count": 171,
   "metadata": {},
   "outputs": [
    {
     "data": {
      "text/plain": [
       "array([0.05243748, 0.01958412, 0.03337937, 0.03066045, 0.02043759,\n",
       "       0.01733141, 0.02985464, 0.02880636, 0.01842099, 0.01794593,\n",
       "       0.02795327, 0.02897107, 0.03942333, 0.05087275, 0.06746893,\n",
       "       0.03148089, 0.01186024, 0.02949449, 0.03834432, 0.0063961 ,\n",
       "       0.04051226, 0.0534493 , 0.03729856, 0.04492674, 0.00093516,\n",
       "       0.03781513, 0.01356636, 0.0509411 , 0.04741849, 0.02233714,\n",
       "       0.02227556, 0.01271498, 0.00451652, 0.00263882, 0.00753015])"
      ]
     },
     "execution_count": 171,
     "metadata": {},
     "output_type": "execute_result"
    }
   ],
   "source": [
    "# Utilização da ExtraTreeClassifier para verificar as colunas mais importantes para a estatistica\n",
    "forest = ExtraTreesClassifier()\n",
    "forest.fit(x_treino, y_treino)\n",
    "importantes = forest.feature_importances_\n",
    "importantes"
   ]
  },
  {
   "cell_type": "code",
   "execution_count": 249,
   "metadata": {},
   "outputs": [],
   "source": [
    "# criação da nova base de dados de treino e teste\n",
    "x_treino2 = x_treino[:, [13, 14, 21, 27]]\n",
    "x_teste2 = x_teste[:, [13, 14, 21, 27]]"
   ]
  },
  {
   "cell_type": "code",
   "execution_count": 250,
   "metadata": {},
   "outputs": [
    {
     "data": {
      "text/plain": [
       "GaussianNB()"
      ]
     },
     "execution_count": 250,
     "metadata": {},
     "output_type": "execute_result"
    }
   ],
   "source": [
    "# Treinar novamente o modelo naive-bayes com as cprincipais categorias\n",
    "naive_bayes.fit(x_treino2, y_treino)"
   ]
  },
  {
   "cell_type": "code",
   "execution_count": 251,
   "metadata": {},
   "outputs": [],
   "source": [
    "# Previsão do modelo refatorado\n",
    "previsao2 = naive_bayes.predict(x_teste2)"
   ]
  },
  {
   "cell_type": "code",
   "execution_count": 252,
   "metadata": {},
   "outputs": [
    {
     "data": {
      "text/plain": [
       "0.6331360946745562"
      ]
     },
     "execution_count": 252,
     "metadata": {},
     "output_type": "execute_result"
    }
   ],
   "source": [
    "# Taxa de acerto do modelo refatorado\n",
    "tx_acerto2 = accuracy_score(y_teste, previsao2)\n",
    "tx_acerto2"
   ]
  },
  {
   "cell_type": "code",
   "execution_count": null,
   "metadata": {},
   "outputs": [],
   "source": [
    "# Não houve melhora nos índices com a troca de categorias\n",
    "# Trocar por random forest"
   ]
  },
  {
   "cell_type": "code",
   "execution_count": null,
   "metadata": {},
   "outputs": [],
   "source": []
  }
 ],
 "metadata": {
  "kernelspec": {
   "display_name": "Python 3",
   "language": "python",
   "name": "python3"
  },
  "language_info": {
   "codemirror_mode": {
    "name": "ipython",
    "version": 3
   },
   "file_extension": ".py",
   "mimetype": "text/x-python",
   "name": "python",
   "nbconvert_exporter": "python",
   "pygments_lexer": "ipython3",
   "version": "3.8.3"
  }
 },
 "nbformat": 4,
 "nbformat_minor": 4
}
