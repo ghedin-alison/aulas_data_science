{
 "cells": [
  {
   "cell_type": "code",
   "execution_count": 2,
   "metadata": {},
   "outputs": [
    {
     "name": "stdout",
     "output_type": "stream",
     "text": [
      "30\n"
     ]
    }
   ],
   "source": [
    "def amplitude(lista):\n",
    "    maximo = max(lista)\n",
    "    minimo = min(lista)\n",
    "    ampl = maximo - minimo\n",
    "    return ampl\n",
    "\n",
    "l1 = [1, 5, 6, 18, 25, -5, 9, 12]\n",
    "\n",
    "print(amplitude(l1))\n",
    "    "
   ]
  },
  {
   "cell_type": "code",
   "execution_count": 6,
   "metadata": {},
   "outputs": [
    {
     "name": "stdout",
     "output_type": "stream",
     "text": [
      "P\n",
      "y\n",
      "t\n",
      "h\n",
      "o\n",
      "n\n"
     ]
    }
   ],
   "source": [
    "string = 'Python'\n",
    "\n",
    "def imprimir(texto):\n",
    "    for letra in texto:\n",
    "        print(letra)\n",
    "        \n",
    "imprimir(string)        "
   ]
  },
  {
   "cell_type": "code",
   "execution_count": 11,
   "metadata": {},
   "outputs": [
    {
     "name": "stdout",
     "output_type": "stream",
     "text": [
      "['O valor do frete é de R$ 50,00 para a encomenda de peso 5', 'O valor do frete é de R$ 50,00 para a encomenda de peso 8', 'O valor do frete é de R$ 50,00 para a encomenda de peso 6', 'O valor do frete é de R$ 50,00 para a encomenda de peso 8', 'O valor do frete é de R$ 50,00 para a encomenda de peso 9', 'O peso excede o limite. Não será feito o transporte.', 'O valor do frete é de R$ 80 para a encomenda de peso 15', 'O valor do frete é de R$ 80 para a encomenda de peso 13', 'O valor do frete é de R$ 50,00 para a encomenda de peso 2']\n"
     ]
    }
   ],
   "source": [
    "def calcula_frete(peso):\n",
    "    if peso <= 10:\n",
    "        return f'O valor do frete é de R$ 50,00 para a encomenda de peso {peso}'\n",
    "    elif peso > 20:\n",
    "        return 'O peso excede o limite. Não será feito o transporte.'\n",
    "    else:\n",
    "        return f'O valor do frete é de R$ 80 para a encomenda de peso {peso}'\n",
    "        \n",
    "pesos = [5, 8, 6, 8, 9, 25, 15, 13, 2]\n",
    "\n",
    "print(list(map(calcula_frete, pesos)))\n",
    "        "
   ]
  },
  {
   "cell_type": "code",
   "execution_count": null,
   "metadata": {},
   "outputs": [],
   "source": []
  }
 ],
 "metadata": {
  "kernelspec": {
   "display_name": "Python 3",
   "language": "python",
   "name": "python3"
  },
  "language_info": {
   "codemirror_mode": {
    "name": "ipython",
    "version": 3
   },
   "file_extension": ".py",
   "mimetype": "text/x-python",
   "name": "python",
   "nbconvert_exporter": "python",
   "pygments_lexer": "ipython3",
   "version": "3.8.3"
  }
 },
 "nbformat": 4,
 "nbformat_minor": 4
}
