{
 "cells": [
  {
   "cell_type": "code",
   "execution_count": 1,
   "metadata": {},
   "outputs": [],
   "source": [
    "# import das bibliotecas\n",
    "import numpy as np\n",
    "import pandas as pd"
   ]
  },
  {
   "cell_type": "code",
   "execution_count": 2,
   "metadata": {},
   "outputs": [],
   "source": [
    "Criar uma série indexada\n",
    "s = pd.Series([1, 3, 5, np.nan, 6, 8])"
   ]
  },
  {
   "cell_type": "code",
   "execution_count": 3,
   "metadata": {},
   "outputs": [
    {
     "data": {
      "text/plain": [
       "0    1.0\n",
       "1    3.0\n",
       "2    5.0\n",
       "3    NaN\n",
       "4    6.0\n",
       "5    8.0\n",
       "dtype: float64"
      ]
     },
     "execution_count": 3,
     "metadata": {},
     "output_type": "execute_result"
    }
   ],
   "source": [
    "s"
   ]
  },
  {
   "cell_type": "code",
   "execution_count": 4,
   "metadata": {},
   "outputs": [],
   "source": [
    "# Criar um range de datas\n",
    "dates = pd.date_range('20201115', periods = 6)"
   ]
  },
  {
   "cell_type": "code",
   "execution_count": 5,
   "metadata": {},
   "outputs": [
    {
     "data": {
      "text/plain": [
       "DatetimeIndex(['2020-11-15', '2020-11-16', '2020-11-17', '2020-11-18',\n",
       "               '2020-11-19', '2020-11-20'],\n",
       "              dtype='datetime64[ns]', freq='D')"
      ]
     },
     "execution_count": 5,
     "metadata": {},
     "output_type": "execute_result"
    }
   ],
   "source": [
    "dates"
   ]
  },
  {
   "cell_type": "code",
   "execution_count": 6,
   "metadata": {},
   "outputs": [
    {
     "data": {
      "text/html": [
       "<div>\n",
       "<style scoped>\n",
       "    .dataframe tbody tr th:only-of-type {\n",
       "        vertical-align: middle;\n",
       "    }\n",
       "\n",
       "    .dataframe tbody tr th {\n",
       "        vertical-align: top;\n",
       "    }\n",
       "\n",
       "    .dataframe thead th {\n",
       "        text-align: right;\n",
       "    }\n",
       "</style>\n",
       "<table border=\"1\" class=\"dataframe\">\n",
       "  <thead>\n",
       "    <tr style=\"text-align: right;\">\n",
       "      <th></th>\n",
       "      <th>A</th>\n",
       "      <th>B</th>\n",
       "      <th>C</th>\n",
       "      <th>D</th>\n",
       "    </tr>\n",
       "  </thead>\n",
       "  <tbody>\n",
       "    <tr>\n",
       "      <th>2020-11-15</th>\n",
       "      <td>1.593635</td>\n",
       "      <td>-0.131280</td>\n",
       "      <td>-0.857837</td>\n",
       "      <td>0.280879</td>\n",
       "    </tr>\n",
       "    <tr>\n",
       "      <th>2020-11-16</th>\n",
       "      <td>2.158364</td>\n",
       "      <td>-0.346466</td>\n",
       "      <td>-2.152157</td>\n",
       "      <td>-0.680632</td>\n",
       "    </tr>\n",
       "    <tr>\n",
       "      <th>2020-11-17</th>\n",
       "      <td>-1.508437</td>\n",
       "      <td>0.496845</td>\n",
       "      <td>-0.156146</td>\n",
       "      <td>-1.324961</td>\n",
       "    </tr>\n",
       "    <tr>\n",
       "      <th>2020-11-18</th>\n",
       "      <td>0.532797</td>\n",
       "      <td>0.480537</td>\n",
       "      <td>1.472906</td>\n",
       "      <td>0.385428</td>\n",
       "    </tr>\n",
       "    <tr>\n",
       "      <th>2020-11-19</th>\n",
       "      <td>-0.790208</td>\n",
       "      <td>3.632613</td>\n",
       "      <td>0.677469</td>\n",
       "      <td>0.521676</td>\n",
       "    </tr>\n",
       "    <tr>\n",
       "      <th>2020-11-20</th>\n",
       "      <td>0.016545</td>\n",
       "      <td>-0.456304</td>\n",
       "      <td>-0.734767</td>\n",
       "      <td>-0.957311</td>\n",
       "    </tr>\n",
       "  </tbody>\n",
       "</table>\n",
       "</div>"
      ],
      "text/plain": [
       "                   A         B         C         D\n",
       "2020-11-15  1.593635 -0.131280 -0.857837  0.280879\n",
       "2020-11-16  2.158364 -0.346466 -2.152157 -0.680632\n",
       "2020-11-17 -1.508437  0.496845 -0.156146 -1.324961\n",
       "2020-11-18  0.532797  0.480537  1.472906  0.385428\n",
       "2020-11-19 -0.790208  3.632613  0.677469  0.521676\n",
       "2020-11-20  0.016545 -0.456304 -0.734767 -0.957311"
      ]
     },
     "execution_count": 6,
     "metadata": {},
     "output_type": "execute_result"
    }
   ],
   "source": [
    "# Criar um dataframe(matriz(6,4) com valores randomicos) e as colunas('A', 'B', 'C', 'D')\n",
    "df = pd.DataFrame(np.random.randn(6, 4), index = dates, columns = list('ABCD'))\n",
    "df"
   ]
  },
  {
   "cell_type": "code",
   "execution_count": 8,
   "metadata": {},
   "outputs": [
    {
     "data": {
      "text/html": [
       "<div>\n",
       "<style scoped>\n",
       "    .dataframe tbody tr th:only-of-type {\n",
       "        vertical-align: middle;\n",
       "    }\n",
       "\n",
       "    .dataframe tbody tr th {\n",
       "        vertical-align: top;\n",
       "    }\n",
       "\n",
       "    .dataframe thead th {\n",
       "        text-align: right;\n",
       "    }\n",
       "</style>\n",
       "<table border=\"1\" class=\"dataframe\">\n",
       "  <thead>\n",
       "    <tr style=\"text-align: right;\">\n",
       "      <th></th>\n",
       "      <th>A</th>\n",
       "      <th>B</th>\n",
       "      <th>C</th>\n",
       "      <th>D</th>\n",
       "      <th>E</th>\n",
       "      <th>F</th>\n",
       "    </tr>\n",
       "  </thead>\n",
       "  <tbody>\n",
       "    <tr>\n",
       "      <th>0</th>\n",
       "      <td>1</td>\n",
       "      <td>2020-11-18</td>\n",
       "      <td>1.0</td>\n",
       "      <td>3</td>\n",
       "      <td>test</td>\n",
       "      <td>pandas</td>\n",
       "    </tr>\n",
       "    <tr>\n",
       "      <th>1</th>\n",
       "      <td>1</td>\n",
       "      <td>2020-11-18</td>\n",
       "      <td>1.0</td>\n",
       "      <td>3</td>\n",
       "      <td>train</td>\n",
       "      <td>pandas</td>\n",
       "    </tr>\n",
       "    <tr>\n",
       "      <th>2</th>\n",
       "      <td>1</td>\n",
       "      <td>2020-11-18</td>\n",
       "      <td>1.0</td>\n",
       "      <td>3</td>\n",
       "      <td>test</td>\n",
       "      <td>pandas</td>\n",
       "    </tr>\n",
       "    <tr>\n",
       "      <th>3</th>\n",
       "      <td>1</td>\n",
       "      <td>2020-11-18</td>\n",
       "      <td>1.0</td>\n",
       "      <td>3</td>\n",
       "      <td>train</td>\n",
       "      <td>pandas</td>\n",
       "    </tr>\n",
       "  </tbody>\n",
       "</table>\n",
       "</div>"
      ],
      "text/plain": [
       "   A          B    C  D      E       F\n",
       "0  1 2020-11-18  1.0  3   test  pandas\n",
       "1  1 2020-11-18  1.0  3  train  pandas\n",
       "2  1 2020-11-18  1.0  3   test  pandas\n",
       "3  1 2020-11-18  1.0  3  train  pandas"
      ]
     },
     "execution_count": 8,
     "metadata": {},
     "output_type": "execute_result"
    }
   ],
   "source": [
    "# Criar um dataframe passando um dicionario de objetos convertidos em modelo serial\n",
    "df2 = pd.DataFrame({'A': 1,\n",
    "                    'B': pd.Timestamp('20201118'),\n",
    "                    'C': pd.Series(1, index=list(range(4)), dtype='float32'),\n",
    "                    'D': np.array([3] * 4, dtype='int32'),\n",
    "                    'E': pd.Categorical(['test', 'train', 'test', 'train']),\n",
    "                    'F': 'pandas'})\n",
    "df2"
   ]
  },
  {
   "cell_type": "code",
   "execution_count": 10,
   "metadata": {},
   "outputs": [
    {
     "data": {
      "text/plain": [
       "A             int64\n",
       "B    datetime64[ns]\n",
       "C           float32\n",
       "D             int32\n",
       "E          category\n",
       "F            object\n",
       "dtype: object"
      ]
     },
     "execution_count": 10,
     "metadata": {},
     "output_type": "execute_result"
    }
   ],
   "source": [
    "df2.dtypes"
   ]
  },
  {
   "cell_type": "code",
   "execution_count": 11,
   "metadata": {},
   "outputs": [
    {
     "data": {
      "text/html": [
       "<div>\n",
       "<style scoped>\n",
       "    .dataframe tbody tr th:only-of-type {\n",
       "        vertical-align: middle;\n",
       "    }\n",
       "\n",
       "    .dataframe tbody tr th {\n",
       "        vertical-align: top;\n",
       "    }\n",
       "\n",
       "    .dataframe thead th {\n",
       "        text-align: right;\n",
       "    }\n",
       "</style>\n",
       "<table border=\"1\" class=\"dataframe\">\n",
       "  <thead>\n",
       "    <tr style=\"text-align: right;\">\n",
       "      <th></th>\n",
       "      <th>A</th>\n",
       "      <th>B</th>\n",
       "      <th>C</th>\n",
       "      <th>D</th>\n",
       "    </tr>\n",
       "  </thead>\n",
       "  <tbody>\n",
       "    <tr>\n",
       "      <th>2020-11-15</th>\n",
       "      <td>1.593635</td>\n",
       "      <td>-0.131280</td>\n",
       "      <td>-0.857837</td>\n",
       "      <td>0.280879</td>\n",
       "    </tr>\n",
       "    <tr>\n",
       "      <th>2020-11-16</th>\n",
       "      <td>2.158364</td>\n",
       "      <td>-0.346466</td>\n",
       "      <td>-2.152157</td>\n",
       "      <td>-0.680632</td>\n",
       "    </tr>\n",
       "    <tr>\n",
       "      <th>2020-11-17</th>\n",
       "      <td>-1.508437</td>\n",
       "      <td>0.496845</td>\n",
       "      <td>-0.156146</td>\n",
       "      <td>-1.324961</td>\n",
       "    </tr>\n",
       "    <tr>\n",
       "      <th>2020-11-18</th>\n",
       "      <td>0.532797</td>\n",
       "      <td>0.480537</td>\n",
       "      <td>1.472906</td>\n",
       "      <td>0.385428</td>\n",
       "    </tr>\n",
       "    <tr>\n",
       "      <th>2020-11-19</th>\n",
       "      <td>-0.790208</td>\n",
       "      <td>3.632613</td>\n",
       "      <td>0.677469</td>\n",
       "      <td>0.521676</td>\n",
       "    </tr>\n",
       "  </tbody>\n",
       "</table>\n",
       "</div>"
      ],
      "text/plain": [
       "                   A         B         C         D\n",
       "2020-11-15  1.593635 -0.131280 -0.857837  0.280879\n",
       "2020-11-16  2.158364 -0.346466 -2.152157 -0.680632\n",
       "2020-11-17 -1.508437  0.496845 -0.156146 -1.324961\n",
       "2020-11-18  0.532797  0.480537  1.472906  0.385428\n",
       "2020-11-19 -0.790208  3.632613  0.677469  0.521676"
      ]
     },
     "execution_count": 11,
     "metadata": {},
     "output_type": "execute_result"
    }
   ],
   "source": [
    "# primeiras  linhas\n",
    "df.head()"
   ]
  },
  {
   "cell_type": "code",
   "execution_count": 12,
   "metadata": {},
   "outputs": [
    {
     "data": {
      "text/html": [
       "<div>\n",
       "<style scoped>\n",
       "    .dataframe tbody tr th:only-of-type {\n",
       "        vertical-align: middle;\n",
       "    }\n",
       "\n",
       "    .dataframe tbody tr th {\n",
       "        vertical-align: top;\n",
       "    }\n",
       "\n",
       "    .dataframe thead th {\n",
       "        text-align: right;\n",
       "    }\n",
       "</style>\n",
       "<table border=\"1\" class=\"dataframe\">\n",
       "  <thead>\n",
       "    <tr style=\"text-align: right;\">\n",
       "      <th></th>\n",
       "      <th>A</th>\n",
       "      <th>B</th>\n",
       "      <th>C</th>\n",
       "      <th>D</th>\n",
       "    </tr>\n",
       "  </thead>\n",
       "  <tbody>\n",
       "    <tr>\n",
       "      <th>2020-11-16</th>\n",
       "      <td>2.158364</td>\n",
       "      <td>-0.346466</td>\n",
       "      <td>-2.152157</td>\n",
       "      <td>-0.680632</td>\n",
       "    </tr>\n",
       "    <tr>\n",
       "      <th>2020-11-17</th>\n",
       "      <td>-1.508437</td>\n",
       "      <td>0.496845</td>\n",
       "      <td>-0.156146</td>\n",
       "      <td>-1.324961</td>\n",
       "    </tr>\n",
       "    <tr>\n",
       "      <th>2020-11-18</th>\n",
       "      <td>0.532797</td>\n",
       "      <td>0.480537</td>\n",
       "      <td>1.472906</td>\n",
       "      <td>0.385428</td>\n",
       "    </tr>\n",
       "    <tr>\n",
       "      <th>2020-11-19</th>\n",
       "      <td>-0.790208</td>\n",
       "      <td>3.632613</td>\n",
       "      <td>0.677469</td>\n",
       "      <td>0.521676</td>\n",
       "    </tr>\n",
       "    <tr>\n",
       "      <th>2020-11-20</th>\n",
       "      <td>0.016545</td>\n",
       "      <td>-0.456304</td>\n",
       "      <td>-0.734767</td>\n",
       "      <td>-0.957311</td>\n",
       "    </tr>\n",
       "  </tbody>\n",
       "</table>\n",
       "</div>"
      ],
      "text/plain": [
       "                   A         B         C         D\n",
       "2020-11-16  2.158364 -0.346466 -2.152157 -0.680632\n",
       "2020-11-17 -1.508437  0.496845 -0.156146 -1.324961\n",
       "2020-11-18  0.532797  0.480537  1.472906  0.385428\n",
       "2020-11-19 -0.790208  3.632613  0.677469  0.521676\n",
       "2020-11-20  0.016545 -0.456304 -0.734767 -0.957311"
      ]
     },
     "execution_count": 12,
     "metadata": {},
     "output_type": "execute_result"
    }
   ],
   "source": [
    "#ultimas linhas\n",
    "df.tail()"
   ]
  },
  {
   "cell_type": "code",
   "execution_count": 13,
   "metadata": {},
   "outputs": [
    {
     "data": {
      "text/plain": [
       "DatetimeIndex(['2020-11-15', '2020-11-16', '2020-11-17', '2020-11-18',\n",
       "               '2020-11-19', '2020-11-20'],\n",
       "              dtype='datetime64[ns]', freq='D')"
      ]
     },
     "execution_count": 13,
     "metadata": {},
     "output_type": "execute_result"
    }
   ],
   "source": [
    "# índices das colunas, nome das linhas\n",
    "df.index"
   ]
  },
  {
   "cell_type": "code",
   "execution_count": 14,
   "metadata": {},
   "outputs": [
    {
     "data": {
      "text/plain": [
       "Index(['A', 'B', 'C', 'D'], dtype='object')"
      ]
     },
     "execution_count": 14,
     "metadata": {},
     "output_type": "execute_result"
    }
   ],
   "source": [
    "# colunas\n",
    "df.columns"
   ]
  },
  {
   "cell_type": "code",
   "execution_count": 15,
   "metadata": {},
   "outputs": [
    {
     "data": {
      "text/plain": [
       "array([[ 1.59363502, -0.1312801 , -0.85783701,  0.28087895],\n",
       "       [ 2.15836423, -0.34646585, -2.15215734, -0.68063208],\n",
       "       [-1.50843721,  0.49684477, -0.15614578, -1.32496102],\n",
       "       [ 0.53279714,  0.48053678,  1.4729057 ,  0.38542756],\n",
       "       [-0.79020821,  3.63261265,  0.67746932,  0.52167609],\n",
       "       [ 0.01654488, -0.45630387, -0.73476746, -0.95731111]])"
      ]
     },
     "execution_count": 15,
     "metadata": {},
     "output_type": "execute_result"
    }
   ],
   "source": [
    "# converter o dataframe para uma matriz com numpy\n",
    "df.to_numpy()"
   ]
  },
  {
   "cell_type": "code",
   "execution_count": 16,
   "metadata": {},
   "outputs": [
    {
     "data": {
      "text/html": [
       "<div>\n",
       "<style scoped>\n",
       "    .dataframe tbody tr th:only-of-type {\n",
       "        vertical-align: middle;\n",
       "    }\n",
       "\n",
       "    .dataframe tbody tr th {\n",
       "        vertical-align: top;\n",
       "    }\n",
       "\n",
       "    .dataframe thead th {\n",
       "        text-align: right;\n",
       "    }\n",
       "</style>\n",
       "<table border=\"1\" class=\"dataframe\">\n",
       "  <thead>\n",
       "    <tr style=\"text-align: right;\">\n",
       "      <th></th>\n",
       "      <th>A</th>\n",
       "      <th>B</th>\n",
       "      <th>C</th>\n",
       "      <th>D</th>\n",
       "    </tr>\n",
       "  </thead>\n",
       "  <tbody>\n",
       "    <tr>\n",
       "      <th>count</th>\n",
       "      <td>6.000000</td>\n",
       "      <td>6.000000</td>\n",
       "      <td>6.000000</td>\n",
       "      <td>6.000000</td>\n",
       "    </tr>\n",
       "    <tr>\n",
       "      <th>mean</th>\n",
       "      <td>0.333783</td>\n",
       "      <td>0.612657</td>\n",
       "      <td>-0.291755</td>\n",
       "      <td>-0.295820</td>\n",
       "    </tr>\n",
       "    <tr>\n",
       "      <th>std</th>\n",
       "      <td>1.393822</td>\n",
       "      <td>1.534082</td>\n",
       "      <td>1.268828</td>\n",
       "      <td>0.788640</td>\n",
       "    </tr>\n",
       "    <tr>\n",
       "      <th>min</th>\n",
       "      <td>-1.508437</td>\n",
       "      <td>-0.456304</td>\n",
       "      <td>-2.152157</td>\n",
       "      <td>-1.324961</td>\n",
       "    </tr>\n",
       "    <tr>\n",
       "      <th>25%</th>\n",
       "      <td>-0.588520</td>\n",
       "      <td>-0.292669</td>\n",
       "      <td>-0.827070</td>\n",
       "      <td>-0.888141</td>\n",
       "    </tr>\n",
       "    <tr>\n",
       "      <th>50%</th>\n",
       "      <td>0.274671</td>\n",
       "      <td>0.174628</td>\n",
       "      <td>-0.445457</td>\n",
       "      <td>-0.199877</td>\n",
       "    </tr>\n",
       "    <tr>\n",
       "      <th>75%</th>\n",
       "      <td>1.328426</td>\n",
       "      <td>0.492768</td>\n",
       "      <td>0.469066</td>\n",
       "      <td>0.359290</td>\n",
       "    </tr>\n",
       "    <tr>\n",
       "      <th>max</th>\n",
       "      <td>2.158364</td>\n",
       "      <td>3.632613</td>\n",
       "      <td>1.472906</td>\n",
       "      <td>0.521676</td>\n",
       "    </tr>\n",
       "  </tbody>\n",
       "</table>\n",
       "</div>"
      ],
      "text/plain": [
       "              A         B         C         D\n",
       "count  6.000000  6.000000  6.000000  6.000000\n",
       "mean   0.333783  0.612657 -0.291755 -0.295820\n",
       "std    1.393822  1.534082  1.268828  0.788640\n",
       "min   -1.508437 -0.456304 -2.152157 -1.324961\n",
       "25%   -0.588520 -0.292669 -0.827070 -0.888141\n",
       "50%    0.274671  0.174628 -0.445457 -0.199877\n",
       "75%    1.328426  0.492768  0.469066  0.359290\n",
       "max    2.158364  3.632613  1.472906  0.521676"
      ]
     },
     "execution_count": 16,
     "metadata": {},
     "output_type": "execute_result"
    }
   ],
   "source": [
    "df.describe()"
   ]
  },
  {
   "cell_type": "code",
   "execution_count": 17,
   "metadata": {},
   "outputs": [
    {
     "data": {
      "text/html": [
       "<div>\n",
       "<style scoped>\n",
       "    .dataframe tbody tr th:only-of-type {\n",
       "        vertical-align: middle;\n",
       "    }\n",
       "\n",
       "    .dataframe tbody tr th {\n",
       "        vertical-align: top;\n",
       "    }\n",
       "\n",
       "    .dataframe thead th {\n",
       "        text-align: right;\n",
       "    }\n",
       "</style>\n",
       "<table border=\"1\" class=\"dataframe\">\n",
       "  <thead>\n",
       "    <tr style=\"text-align: right;\">\n",
       "      <th></th>\n",
       "      <th>2020-11-15</th>\n",
       "      <th>2020-11-16</th>\n",
       "      <th>2020-11-17</th>\n",
       "      <th>2020-11-18</th>\n",
       "      <th>2020-11-19</th>\n",
       "      <th>2020-11-20</th>\n",
       "    </tr>\n",
       "  </thead>\n",
       "  <tbody>\n",
       "    <tr>\n",
       "      <th>A</th>\n",
       "      <td>1.593635</td>\n",
       "      <td>2.158364</td>\n",
       "      <td>-1.508437</td>\n",
       "      <td>0.532797</td>\n",
       "      <td>-0.790208</td>\n",
       "      <td>0.016545</td>\n",
       "    </tr>\n",
       "    <tr>\n",
       "      <th>B</th>\n",
       "      <td>-0.131280</td>\n",
       "      <td>-0.346466</td>\n",
       "      <td>0.496845</td>\n",
       "      <td>0.480537</td>\n",
       "      <td>3.632613</td>\n",
       "      <td>-0.456304</td>\n",
       "    </tr>\n",
       "    <tr>\n",
       "      <th>C</th>\n",
       "      <td>-0.857837</td>\n",
       "      <td>-2.152157</td>\n",
       "      <td>-0.156146</td>\n",
       "      <td>1.472906</td>\n",
       "      <td>0.677469</td>\n",
       "      <td>-0.734767</td>\n",
       "    </tr>\n",
       "    <tr>\n",
       "      <th>D</th>\n",
       "      <td>0.280879</td>\n",
       "      <td>-0.680632</td>\n",
       "      <td>-1.324961</td>\n",
       "      <td>0.385428</td>\n",
       "      <td>0.521676</td>\n",
       "      <td>-0.957311</td>\n",
       "    </tr>\n",
       "  </tbody>\n",
       "</table>\n",
       "</div>"
      ],
      "text/plain": [
       "   2020-11-15  2020-11-16  2020-11-17  2020-11-18  2020-11-19  2020-11-20\n",
       "A    1.593635    2.158364   -1.508437    0.532797   -0.790208    0.016545\n",
       "B   -0.131280   -0.346466    0.496845    0.480537    3.632613   -0.456304\n",
       "C   -0.857837   -2.152157   -0.156146    1.472906    0.677469   -0.734767\n",
       "D    0.280879   -0.680632   -1.324961    0.385428    0.521676   -0.957311"
      ]
     },
     "execution_count": 17,
     "metadata": {},
     "output_type": "execute_result"
    }
   ],
   "source": [
    "# matriz transposta\n",
    "df.T"
   ]
  },
  {
   "cell_type": "code",
   "execution_count": 21,
   "metadata": {},
   "outputs": [
    {
     "data": {
      "text/html": [
       "<div>\n",
       "<style scoped>\n",
       "    .dataframe tbody tr th:only-of-type {\n",
       "        vertical-align: middle;\n",
       "    }\n",
       "\n",
       "    .dataframe tbody tr th {\n",
       "        vertical-align: top;\n",
       "    }\n",
       "\n",
       "    .dataframe thead th {\n",
       "        text-align: right;\n",
       "    }\n",
       "</style>\n",
       "<table border=\"1\" class=\"dataframe\">\n",
       "  <thead>\n",
       "    <tr style=\"text-align: right;\">\n",
       "      <th></th>\n",
       "      <th>D</th>\n",
       "      <th>C</th>\n",
       "      <th>B</th>\n",
       "      <th>A</th>\n",
       "    </tr>\n",
       "  </thead>\n",
       "  <tbody>\n",
       "    <tr>\n",
       "      <th>2020-11-15</th>\n",
       "      <td>0.280879</td>\n",
       "      <td>-0.857837</td>\n",
       "      <td>-0.131280</td>\n",
       "      <td>1.593635</td>\n",
       "    </tr>\n",
       "    <tr>\n",
       "      <th>2020-11-16</th>\n",
       "      <td>-0.680632</td>\n",
       "      <td>-2.152157</td>\n",
       "      <td>-0.346466</td>\n",
       "      <td>2.158364</td>\n",
       "    </tr>\n",
       "    <tr>\n",
       "      <th>2020-11-17</th>\n",
       "      <td>-1.324961</td>\n",
       "      <td>-0.156146</td>\n",
       "      <td>0.496845</td>\n",
       "      <td>-1.508437</td>\n",
       "    </tr>\n",
       "    <tr>\n",
       "      <th>2020-11-18</th>\n",
       "      <td>0.385428</td>\n",
       "      <td>1.472906</td>\n",
       "      <td>0.480537</td>\n",
       "      <td>0.532797</td>\n",
       "    </tr>\n",
       "    <tr>\n",
       "      <th>2020-11-19</th>\n",
       "      <td>0.521676</td>\n",
       "      <td>0.677469</td>\n",
       "      <td>3.632613</td>\n",
       "      <td>-0.790208</td>\n",
       "    </tr>\n",
       "    <tr>\n",
       "      <th>2020-11-20</th>\n",
       "      <td>-0.957311</td>\n",
       "      <td>-0.734767</td>\n",
       "      <td>-0.456304</td>\n",
       "      <td>0.016545</td>\n",
       "    </tr>\n",
       "  </tbody>\n",
       "</table>\n",
       "</div>"
      ],
      "text/plain": [
       "                   D         C         B         A\n",
       "2020-11-15  0.280879 -0.857837 -0.131280  1.593635\n",
       "2020-11-16 -0.680632 -2.152157 -0.346466  2.158364\n",
       "2020-11-17 -1.324961 -0.156146  0.496845 -1.508437\n",
       "2020-11-18  0.385428  1.472906  0.480537  0.532797\n",
       "2020-11-19  0.521676  0.677469  3.632613 -0.790208\n",
       "2020-11-20 -0.957311 -0.734767 -0.456304  0.016545"
      ]
     },
     "execution_count": 21,
     "metadata": {},
     "output_type": "execute_result"
    }
   ],
   "source": [
    "# trocando as colunas de posição\n",
    "df.sort_index(axis=1, ascending=False)"
   ]
  },
  {
   "cell_type": "code",
   "execution_count": 22,
   "metadata": {},
   "outputs": [
    {
     "data": {
      "text/html": [
       "<div>\n",
       "<style scoped>\n",
       "    .dataframe tbody tr th:only-of-type {\n",
       "        vertical-align: middle;\n",
       "    }\n",
       "\n",
       "    .dataframe tbody tr th {\n",
       "        vertical-align: top;\n",
       "    }\n",
       "\n",
       "    .dataframe thead th {\n",
       "        text-align: right;\n",
       "    }\n",
       "</style>\n",
       "<table border=\"1\" class=\"dataframe\">\n",
       "  <thead>\n",
       "    <tr style=\"text-align: right;\">\n",
       "      <th></th>\n",
       "      <th>A</th>\n",
       "      <th>B</th>\n",
       "      <th>C</th>\n",
       "      <th>D</th>\n",
       "    </tr>\n",
       "  </thead>\n",
       "  <tbody>\n",
       "    <tr>\n",
       "      <th>2020-11-20</th>\n",
       "      <td>0.016545</td>\n",
       "      <td>-0.456304</td>\n",
       "      <td>-0.734767</td>\n",
       "      <td>-0.957311</td>\n",
       "    </tr>\n",
       "    <tr>\n",
       "      <th>2020-11-16</th>\n",
       "      <td>2.158364</td>\n",
       "      <td>-0.346466</td>\n",
       "      <td>-2.152157</td>\n",
       "      <td>-0.680632</td>\n",
       "    </tr>\n",
       "    <tr>\n",
       "      <th>2020-11-15</th>\n",
       "      <td>1.593635</td>\n",
       "      <td>-0.131280</td>\n",
       "      <td>-0.857837</td>\n",
       "      <td>0.280879</td>\n",
       "    </tr>\n",
       "    <tr>\n",
       "      <th>2020-11-18</th>\n",
       "      <td>0.532797</td>\n",
       "      <td>0.480537</td>\n",
       "      <td>1.472906</td>\n",
       "      <td>0.385428</td>\n",
       "    </tr>\n",
       "    <tr>\n",
       "      <th>2020-11-17</th>\n",
       "      <td>-1.508437</td>\n",
       "      <td>0.496845</td>\n",
       "      <td>-0.156146</td>\n",
       "      <td>-1.324961</td>\n",
       "    </tr>\n",
       "    <tr>\n",
       "      <th>2020-11-19</th>\n",
       "      <td>-0.790208</td>\n",
       "      <td>3.632613</td>\n",
       "      <td>0.677469</td>\n",
       "      <td>0.521676</td>\n",
       "    </tr>\n",
       "  </tbody>\n",
       "</table>\n",
       "</div>"
      ],
      "text/plain": [
       "                   A         B         C         D\n",
       "2020-11-20  0.016545 -0.456304 -0.734767 -0.957311\n",
       "2020-11-16  2.158364 -0.346466 -2.152157 -0.680632\n",
       "2020-11-15  1.593635 -0.131280 -0.857837  0.280879\n",
       "2020-11-18  0.532797  0.480537  1.472906  0.385428\n",
       "2020-11-17 -1.508437  0.496845 -0.156146 -1.324961\n",
       "2020-11-19 -0.790208  3.632613  0.677469  0.521676"
      ]
     },
     "execution_count": 22,
     "metadata": {},
     "output_type": "execute_result"
    }
   ],
   "source": [
    "# ordenando por uma coluna especifica de forma ascendente de valor\n",
    "df.sort_values(by='B')"
   ]
  },
  {
   "cell_type": "code",
   "execution_count": 25,
   "metadata": {},
   "outputs": [
    {
     "data": {
      "text/plain": [
       "2020-11-15   -0.857837\n",
       "2020-11-16   -2.152157\n",
       "2020-11-17   -0.156146\n",
       "2020-11-18    1.472906\n",
       "2020-11-19    0.677469\n",
       "2020-11-20   -0.734767\n",
       "Freq: D, Name: C, dtype: float64"
      ]
     },
     "execution_count": 25,
     "metadata": {},
     "output_type": "execute_result"
    }
   ],
   "source": [
    "# Selecionando dados de uma coluna especifica\n",
    "df['C']"
   ]
  },
  {
   "cell_type": "code",
   "execution_count": 28,
   "metadata": {},
   "outputs": [
    {
     "data": {
      "text/html": [
       "<div>\n",
       "<style scoped>\n",
       "    .dataframe tbody tr th:only-of-type {\n",
       "        vertical-align: middle;\n",
       "    }\n",
       "\n",
       "    .dataframe tbody tr th {\n",
       "        vertical-align: top;\n",
       "    }\n",
       "\n",
       "    .dataframe thead th {\n",
       "        text-align: right;\n",
       "    }\n",
       "</style>\n",
       "<table border=\"1\" class=\"dataframe\">\n",
       "  <thead>\n",
       "    <tr style=\"text-align: right;\">\n",
       "      <th></th>\n",
       "      <th>A</th>\n",
       "      <th>C</th>\n",
       "    </tr>\n",
       "  </thead>\n",
       "  <tbody>\n",
       "    <tr>\n",
       "      <th>2020-11-15</th>\n",
       "      <td>1.593635</td>\n",
       "      <td>-0.857837</td>\n",
       "    </tr>\n",
       "    <tr>\n",
       "      <th>2020-11-16</th>\n",
       "      <td>2.158364</td>\n",
       "      <td>-2.152157</td>\n",
       "    </tr>\n",
       "    <tr>\n",
       "      <th>2020-11-17</th>\n",
       "      <td>-1.508437</td>\n",
       "      <td>-0.156146</td>\n",
       "    </tr>\n",
       "    <tr>\n",
       "      <th>2020-11-18</th>\n",
       "      <td>0.532797</td>\n",
       "      <td>1.472906</td>\n",
       "    </tr>\n",
       "    <tr>\n",
       "      <th>2020-11-19</th>\n",
       "      <td>-0.790208</td>\n",
       "      <td>0.677469</td>\n",
       "    </tr>\n",
       "    <tr>\n",
       "      <th>2020-11-20</th>\n",
       "      <td>0.016545</td>\n",
       "      <td>-0.734767</td>\n",
       "    </tr>\n",
       "  </tbody>\n",
       "</table>\n",
       "</div>"
      ],
      "text/plain": [
       "                   A         C\n",
       "2020-11-15  1.593635 -0.857837\n",
       "2020-11-16  2.158364 -2.152157\n",
       "2020-11-17 -1.508437 -0.156146\n",
       "2020-11-18  0.532797  1.472906\n",
       "2020-11-19 -0.790208  0.677469\n",
       "2020-11-20  0.016545 -0.734767"
      ]
     },
     "execution_count": 28,
     "metadata": {},
     "output_type": "execute_result"
    }
   ],
   "source": [
    "# Selecionando mais de uma coluna\n",
    "df.loc[:, ['A', 'C']]"
   ]
  },
  {
   "cell_type": "code",
   "execution_count": 29,
   "metadata": {},
   "outputs": [
    {
     "data": {
      "text/html": [
       "<div>\n",
       "<style scoped>\n",
       "    .dataframe tbody tr th:only-of-type {\n",
       "        vertical-align: middle;\n",
       "    }\n",
       "\n",
       "    .dataframe tbody tr th {\n",
       "        vertical-align: top;\n",
       "    }\n",
       "\n",
       "    .dataframe thead th {\n",
       "        text-align: right;\n",
       "    }\n",
       "</style>\n",
       "<table border=\"1\" class=\"dataframe\">\n",
       "  <thead>\n",
       "    <tr style=\"text-align: right;\">\n",
       "      <th></th>\n",
       "      <th>A</th>\n",
       "      <th>D</th>\n",
       "    </tr>\n",
       "  </thead>\n",
       "  <tbody>\n",
       "    <tr>\n",
       "      <th>2020-11-17</th>\n",
       "      <td>-1.508437</td>\n",
       "      <td>-1.324961</td>\n",
       "    </tr>\n",
       "    <tr>\n",
       "      <th>2020-11-18</th>\n",
       "      <td>0.532797</td>\n",
       "      <td>0.385428</td>\n",
       "    </tr>\n",
       "    <tr>\n",
       "      <th>2020-11-19</th>\n",
       "      <td>-0.790208</td>\n",
       "      <td>0.521676</td>\n",
       "    </tr>\n",
       "    <tr>\n",
       "      <th>2020-11-20</th>\n",
       "      <td>0.016545</td>\n",
       "      <td>-0.957311</td>\n",
       "    </tr>\n",
       "  </tbody>\n",
       "</table>\n",
       "</div>"
      ],
      "text/plain": [
       "                   A         D\n",
       "2020-11-17 -1.508437 -1.324961\n",
       "2020-11-18  0.532797  0.385428\n",
       "2020-11-19 -0.790208  0.521676\n",
       "2020-11-20  0.016545 -0.957311"
      ]
     },
     "execution_count": 29,
     "metadata": {},
     "output_type": "execute_result"
    }
   ],
   "source": [
    "# Selecionando linhas e colunas específicas\n",
    "df.loc['20201117':'20201120', ['A', 'D']]"
   ]
  },
  {
   "cell_type": "code",
   "execution_count": 34,
   "metadata": {},
   "outputs": [
    {
     "data": {
      "text/plain": [
       "2.1583642266725604"
      ]
     },
     "execution_count": 34,
     "metadata": {},
     "output_type": "execute_result"
    }
   ],
   "source": [
    "# Selecionando um dado especifico por indice na linha x coluna\n",
    "df.loc[dates[1], 'A']\n"
   ]
  },
  {
   "cell_type": "code",
   "execution_count": 35,
   "metadata": {},
   "outputs": [
    {
     "data": {
      "text/plain": [
       "-1.324961022886539"
      ]
     },
     "execution_count": 35,
     "metadata": {},
     "output_type": "execute_result"
    }
   ],
   "source": [
    "df.loc[dates[2], 'D']"
   ]
  },
  {
   "cell_type": "code",
   "execution_count": 42,
   "metadata": {},
   "outputs": [],
   "source": [
    "# Definindo uma função para trocar de cor os valores negativos\n",
    "def color_negative_red(val):\n",
    "    if val < 0:\n",
    "        color = 'red'\n",
    "    else: \n",
    "        color = 'white'\n",
    "    return 'color: %s' % color"
   ]
  },
  {
   "cell_type": "code",
   "execution_count": 44,
   "metadata": {},
   "outputs": [
    {
     "data": {
      "text/html": [
       "<style  type=\"text/css\" >\n",
       "    #T_a027d194_2e84_11eb_ac21_cdcfcc210ef9row0_col0 {\n",
       "            color:  white;\n",
       "        }    #T_a027d194_2e84_11eb_ac21_cdcfcc210ef9row0_col1 {\n",
       "            color:  red;\n",
       "        }    #T_a027d194_2e84_11eb_ac21_cdcfcc210ef9row0_col2 {\n",
       "            color:  red;\n",
       "        }    #T_a027d194_2e84_11eb_ac21_cdcfcc210ef9row0_col3 {\n",
       "            color:  white;\n",
       "        }    #T_a027d194_2e84_11eb_ac21_cdcfcc210ef9row1_col0 {\n",
       "            color:  white;\n",
       "        }    #T_a027d194_2e84_11eb_ac21_cdcfcc210ef9row1_col1 {\n",
       "            color:  red;\n",
       "        }    #T_a027d194_2e84_11eb_ac21_cdcfcc210ef9row1_col2 {\n",
       "            color:  red;\n",
       "        }    #T_a027d194_2e84_11eb_ac21_cdcfcc210ef9row1_col3 {\n",
       "            color:  red;\n",
       "        }    #T_a027d194_2e84_11eb_ac21_cdcfcc210ef9row2_col0 {\n",
       "            color:  red;\n",
       "        }    #T_a027d194_2e84_11eb_ac21_cdcfcc210ef9row2_col1 {\n",
       "            color:  white;\n",
       "        }    #T_a027d194_2e84_11eb_ac21_cdcfcc210ef9row2_col2 {\n",
       "            color:  red;\n",
       "        }    #T_a027d194_2e84_11eb_ac21_cdcfcc210ef9row2_col3 {\n",
       "            color:  red;\n",
       "        }    #T_a027d194_2e84_11eb_ac21_cdcfcc210ef9row3_col0 {\n",
       "            color:  white;\n",
       "        }    #T_a027d194_2e84_11eb_ac21_cdcfcc210ef9row3_col1 {\n",
       "            color:  white;\n",
       "        }    #T_a027d194_2e84_11eb_ac21_cdcfcc210ef9row3_col2 {\n",
       "            color:  white;\n",
       "        }    #T_a027d194_2e84_11eb_ac21_cdcfcc210ef9row3_col3 {\n",
       "            color:  white;\n",
       "        }    #T_a027d194_2e84_11eb_ac21_cdcfcc210ef9row4_col0 {\n",
       "            color:  red;\n",
       "        }    #T_a027d194_2e84_11eb_ac21_cdcfcc210ef9row4_col1 {\n",
       "            color:  white;\n",
       "        }    #T_a027d194_2e84_11eb_ac21_cdcfcc210ef9row4_col2 {\n",
       "            color:  white;\n",
       "        }    #T_a027d194_2e84_11eb_ac21_cdcfcc210ef9row4_col3 {\n",
       "            color:  white;\n",
       "        }    #T_a027d194_2e84_11eb_ac21_cdcfcc210ef9row5_col0 {\n",
       "            color:  white;\n",
       "        }    #T_a027d194_2e84_11eb_ac21_cdcfcc210ef9row5_col1 {\n",
       "            color:  red;\n",
       "        }    #T_a027d194_2e84_11eb_ac21_cdcfcc210ef9row5_col2 {\n",
       "            color:  red;\n",
       "        }    #T_a027d194_2e84_11eb_ac21_cdcfcc210ef9row5_col3 {\n",
       "            color:  red;\n",
       "        }</style><table id=\"T_a027d194_2e84_11eb_ac21_cdcfcc210ef9\" ><thead>    <tr>        <th class=\"blank level0\" ></th>        <th class=\"col_heading level0 col0\" >A</th>        <th class=\"col_heading level0 col1\" >B</th>        <th class=\"col_heading level0 col2\" >C</th>        <th class=\"col_heading level0 col3\" >D</th>    </tr></thead><tbody>\n",
       "                <tr>\n",
       "                        <th id=\"T_a027d194_2e84_11eb_ac21_cdcfcc210ef9level0_row0\" class=\"row_heading level0 row0\" >2020-11-15 00:00:00</th>\n",
       "                        <td id=\"T_a027d194_2e84_11eb_ac21_cdcfcc210ef9row0_col0\" class=\"data row0 col0\" >1.593635</td>\n",
       "                        <td id=\"T_a027d194_2e84_11eb_ac21_cdcfcc210ef9row0_col1\" class=\"data row0 col1\" >-0.131280</td>\n",
       "                        <td id=\"T_a027d194_2e84_11eb_ac21_cdcfcc210ef9row0_col2\" class=\"data row0 col2\" >-0.857837</td>\n",
       "                        <td id=\"T_a027d194_2e84_11eb_ac21_cdcfcc210ef9row0_col3\" class=\"data row0 col3\" >0.280879</td>\n",
       "            </tr>\n",
       "            <tr>\n",
       "                        <th id=\"T_a027d194_2e84_11eb_ac21_cdcfcc210ef9level0_row1\" class=\"row_heading level0 row1\" >2020-11-16 00:00:00</th>\n",
       "                        <td id=\"T_a027d194_2e84_11eb_ac21_cdcfcc210ef9row1_col0\" class=\"data row1 col0\" >2.158364</td>\n",
       "                        <td id=\"T_a027d194_2e84_11eb_ac21_cdcfcc210ef9row1_col1\" class=\"data row1 col1\" >-0.346466</td>\n",
       "                        <td id=\"T_a027d194_2e84_11eb_ac21_cdcfcc210ef9row1_col2\" class=\"data row1 col2\" >-2.152157</td>\n",
       "                        <td id=\"T_a027d194_2e84_11eb_ac21_cdcfcc210ef9row1_col3\" class=\"data row1 col3\" >-0.680632</td>\n",
       "            </tr>\n",
       "            <tr>\n",
       "                        <th id=\"T_a027d194_2e84_11eb_ac21_cdcfcc210ef9level0_row2\" class=\"row_heading level0 row2\" >2020-11-17 00:00:00</th>\n",
       "                        <td id=\"T_a027d194_2e84_11eb_ac21_cdcfcc210ef9row2_col0\" class=\"data row2 col0\" >-1.508437</td>\n",
       "                        <td id=\"T_a027d194_2e84_11eb_ac21_cdcfcc210ef9row2_col1\" class=\"data row2 col1\" >0.496845</td>\n",
       "                        <td id=\"T_a027d194_2e84_11eb_ac21_cdcfcc210ef9row2_col2\" class=\"data row2 col2\" >-0.156146</td>\n",
       "                        <td id=\"T_a027d194_2e84_11eb_ac21_cdcfcc210ef9row2_col3\" class=\"data row2 col3\" >-1.324961</td>\n",
       "            </tr>\n",
       "            <tr>\n",
       "                        <th id=\"T_a027d194_2e84_11eb_ac21_cdcfcc210ef9level0_row3\" class=\"row_heading level0 row3\" >2020-11-18 00:00:00</th>\n",
       "                        <td id=\"T_a027d194_2e84_11eb_ac21_cdcfcc210ef9row3_col0\" class=\"data row3 col0\" >0.532797</td>\n",
       "                        <td id=\"T_a027d194_2e84_11eb_ac21_cdcfcc210ef9row3_col1\" class=\"data row3 col1\" >0.480537</td>\n",
       "                        <td id=\"T_a027d194_2e84_11eb_ac21_cdcfcc210ef9row3_col2\" class=\"data row3 col2\" >1.472906</td>\n",
       "                        <td id=\"T_a027d194_2e84_11eb_ac21_cdcfcc210ef9row3_col3\" class=\"data row3 col3\" >0.385428</td>\n",
       "            </tr>\n",
       "            <tr>\n",
       "                        <th id=\"T_a027d194_2e84_11eb_ac21_cdcfcc210ef9level0_row4\" class=\"row_heading level0 row4\" >2020-11-19 00:00:00</th>\n",
       "                        <td id=\"T_a027d194_2e84_11eb_ac21_cdcfcc210ef9row4_col0\" class=\"data row4 col0\" >-0.790208</td>\n",
       "                        <td id=\"T_a027d194_2e84_11eb_ac21_cdcfcc210ef9row4_col1\" class=\"data row4 col1\" >3.632613</td>\n",
       "                        <td id=\"T_a027d194_2e84_11eb_ac21_cdcfcc210ef9row4_col2\" class=\"data row4 col2\" >0.677469</td>\n",
       "                        <td id=\"T_a027d194_2e84_11eb_ac21_cdcfcc210ef9row4_col3\" class=\"data row4 col3\" >0.521676</td>\n",
       "            </tr>\n",
       "            <tr>\n",
       "                        <th id=\"T_a027d194_2e84_11eb_ac21_cdcfcc210ef9level0_row5\" class=\"row_heading level0 row5\" >2020-11-20 00:00:00</th>\n",
       "                        <td id=\"T_a027d194_2e84_11eb_ac21_cdcfcc210ef9row5_col0\" class=\"data row5 col0\" >0.016545</td>\n",
       "                        <td id=\"T_a027d194_2e84_11eb_ac21_cdcfcc210ef9row5_col1\" class=\"data row5 col1\" >-0.456304</td>\n",
       "                        <td id=\"T_a027d194_2e84_11eb_ac21_cdcfcc210ef9row5_col2\" class=\"data row5 col2\" >-0.734767</td>\n",
       "                        <td id=\"T_a027d194_2e84_11eb_ac21_cdcfcc210ef9row5_col3\" class=\"data row5 col3\" >-0.957311</td>\n",
       "            </tr>\n",
       "    </tbody></table>"
      ],
      "text/plain": [
       "<pandas.io.formats.style.Styler at 0x7f8b9b9ab970>"
      ]
     },
     "execution_count": 44,
     "metadata": {},
     "output_type": "execute_result"
    }
   ],
   "source": [
    "# Definindo um estilo na tabela, utilizando a função definida acima\n",
    "red = df.style.applymap(color_negative_red)\n",
    "red"
   ]
  },
  {
   "cell_type": "code",
   "execution_count": 46,
   "metadata": {},
   "outputs": [
    {
     "data": {
      "text/plain": [
       "A    0.532797\n",
       "B    0.480537\n",
       "C    1.472906\n",
       "D    0.385428\n",
       "Name: 2020-11-18 00:00:00, dtype: float64"
      ]
     },
     "execution_count": 46,
     "metadata": {},
     "output_type": "execute_result"
    }
   ],
   "source": [
    "# Seleção por posição(índice/linha)\n",
    "df.iloc[3]"
   ]
  },
  {
   "cell_type": "code",
   "execution_count": 48,
   "metadata": {},
   "outputs": [
    {
     "data": {
      "text/html": [
       "<div>\n",
       "<style scoped>\n",
       "    .dataframe tbody tr th:only-of-type {\n",
       "        vertical-align: middle;\n",
       "    }\n",
       "\n",
       "    .dataframe tbody tr th {\n",
       "        vertical-align: top;\n",
       "    }\n",
       "\n",
       "    .dataframe thead th {\n",
       "        text-align: right;\n",
       "    }\n",
       "</style>\n",
       "<table border=\"1\" class=\"dataframe\">\n",
       "  <thead>\n",
       "    <tr style=\"text-align: right;\">\n",
       "      <th></th>\n",
       "      <th>B</th>\n",
       "    </tr>\n",
       "  </thead>\n",
       "  <tbody>\n",
       "    <tr>\n",
       "      <th>2020-11-16</th>\n",
       "      <td>-0.346466</td>\n",
       "    </tr>\n",
       "    <tr>\n",
       "      <th>2020-11-17</th>\n",
       "      <td>0.496845</td>\n",
       "    </tr>\n",
       "    <tr>\n",
       "      <th>2020-11-18</th>\n",
       "      <td>0.480537</td>\n",
       "    </tr>\n",
       "  </tbody>\n",
       "</table>\n",
       "</div>"
      ],
      "text/plain": [
       "                   B\n",
       "2020-11-16 -0.346466\n",
       "2020-11-17  0.496845\n",
       "2020-11-18  0.480537"
      ]
     },
     "execution_count": 48,
     "metadata": {},
     "output_type": "execute_result"
    }
   ],
   "source": [
    "# Seleção por posição utilizando linha e coluna\n",
    "df.iloc[1:4, 1:2]"
   ]
  },
  {
   "cell_type": "code",
   "execution_count": 50,
   "metadata": {},
   "outputs": [
    {
     "data": {
      "text/html": [
       "<div>\n",
       "<style scoped>\n",
       "    .dataframe tbody tr th:only-of-type {\n",
       "        vertical-align: middle;\n",
       "    }\n",
       "\n",
       "    .dataframe tbody tr th {\n",
       "        vertical-align: top;\n",
       "    }\n",
       "\n",
       "    .dataframe thead th {\n",
       "        text-align: right;\n",
       "    }\n",
       "</style>\n",
       "<table border=\"1\" class=\"dataframe\">\n",
       "  <thead>\n",
       "    <tr style=\"text-align: right;\">\n",
       "      <th></th>\n",
       "      <th>B</th>\n",
       "      <th>D</th>\n",
       "    </tr>\n",
       "  </thead>\n",
       "  <tbody>\n",
       "    <tr>\n",
       "      <th>2020-11-16</th>\n",
       "      <td>-0.346466</td>\n",
       "      <td>-0.680632</td>\n",
       "    </tr>\n",
       "    <tr>\n",
       "      <th>2020-11-18</th>\n",
       "      <td>0.480537</td>\n",
       "      <td>0.385428</td>\n",
       "    </tr>\n",
       "    <tr>\n",
       "      <th>2020-11-20</th>\n",
       "      <td>-0.456304</td>\n",
       "      <td>-0.957311</td>\n",
       "    </tr>\n",
       "  </tbody>\n",
       "</table>\n",
       "</div>"
      ],
      "text/plain": [
       "                   B         D\n",
       "2020-11-16 -0.346466 -0.680632\n",
       "2020-11-18  0.480537  0.385428\n",
       "2020-11-20 -0.456304 -0.957311"
      ]
     },
     "execution_count": 50,
     "metadata": {},
     "output_type": "execute_result"
    }
   ],
   "source": [
    "# Seleção por posição utilizando linha e coluna\n",
    "df.iloc[[1,3,5], [1,3]]"
   ]
  },
  {
   "cell_type": "code",
   "execution_count": 51,
   "metadata": {},
   "outputs": [
    {
     "data": {
      "text/plain": [
       "0.3854275644986616"
      ]
     },
     "execution_count": 51,
     "metadata": {},
     "output_type": "execute_result"
    }
   ],
   "source": [
    "df.iloc[3, 3]"
   ]
  },
  {
   "cell_type": "code",
   "execution_count": 54,
   "metadata": {},
   "outputs": [
    {
     "data": {
      "text/html": [
       "<div>\n",
       "<style scoped>\n",
       "    .dataframe tbody tr th:only-of-type {\n",
       "        vertical-align: middle;\n",
       "    }\n",
       "\n",
       "    .dataframe tbody tr th {\n",
       "        vertical-align: top;\n",
       "    }\n",
       "\n",
       "    .dataframe thead th {\n",
       "        text-align: right;\n",
       "    }\n",
       "</style>\n",
       "<table border=\"1\" class=\"dataframe\">\n",
       "  <thead>\n",
       "    <tr style=\"text-align: right;\">\n",
       "      <th></th>\n",
       "      <th>A</th>\n",
       "      <th>B</th>\n",
       "    </tr>\n",
       "  </thead>\n",
       "  <tbody>\n",
       "    <tr>\n",
       "      <th>2020-11-15</th>\n",
       "      <td>1.593635</td>\n",
       "      <td>-0.131280</td>\n",
       "    </tr>\n",
       "    <tr>\n",
       "      <th>2020-11-16</th>\n",
       "      <td>2.158364</td>\n",
       "      <td>-0.346466</td>\n",
       "    </tr>\n",
       "    <tr>\n",
       "      <th>2020-11-18</th>\n",
       "      <td>0.532797</td>\n",
       "      <td>0.480537</td>\n",
       "    </tr>\n",
       "    <tr>\n",
       "      <th>2020-11-20</th>\n",
       "      <td>0.016545</td>\n",
       "      <td>-0.456304</td>\n",
       "    </tr>\n",
       "  </tbody>\n",
       "</table>\n",
       "</div>"
      ],
      "text/plain": [
       "                   A         B\n",
       "2020-11-15  1.593635 -0.131280\n",
       "2020-11-16  2.158364 -0.346466\n",
       "2020-11-18  0.532797  0.480537\n",
       "2020-11-20  0.016545 -0.456304"
      ]
     },
     "execution_count": 54,
     "metadata": {},
     "output_type": "execute_result"
    }
   ],
   "source": [
    "# Indexando por resultado de uma booleana\n",
    "# Misturando ferramentas vistas anteriormente para selecionar somente as colunas A e B onde os valores de A sejam positivos\n",
    "df.loc[df['A'] > 0, ['A', 'B']]"
   ]
  },
  {
   "cell_type": "code",
   "execution_count": 55,
   "metadata": {},
   "outputs": [],
   "source": [
    "dfx = df.copy()"
   ]
  },
  {
   "cell_type": "code",
   "execution_count": 58,
   "metadata": {},
   "outputs": [],
   "source": [
    "dfx['E'] = ['one', 'one', 'two', 'three', 'four', 'three']"
   ]
  },
  {
   "cell_type": "code",
   "execution_count": 59,
   "metadata": {},
   "outputs": [
    {
     "data": {
      "text/html": [
       "<div>\n",
       "<style scoped>\n",
       "    .dataframe tbody tr th:only-of-type {\n",
       "        vertical-align: middle;\n",
       "    }\n",
       "\n",
       "    .dataframe tbody tr th {\n",
       "        vertical-align: top;\n",
       "    }\n",
       "\n",
       "    .dataframe thead th {\n",
       "        text-align: right;\n",
       "    }\n",
       "</style>\n",
       "<table border=\"1\" class=\"dataframe\">\n",
       "  <thead>\n",
       "    <tr style=\"text-align: right;\">\n",
       "      <th></th>\n",
       "      <th>A</th>\n",
       "      <th>B</th>\n",
       "      <th>C</th>\n",
       "      <th>D</th>\n",
       "      <th>E</th>\n",
       "    </tr>\n",
       "  </thead>\n",
       "  <tbody>\n",
       "    <tr>\n",
       "      <th>2020-11-15</th>\n",
       "      <td>1.593635</td>\n",
       "      <td>-0.131280</td>\n",
       "      <td>-0.857837</td>\n",
       "      <td>0.280879</td>\n",
       "      <td>one</td>\n",
       "    </tr>\n",
       "    <tr>\n",
       "      <th>2020-11-16</th>\n",
       "      <td>2.158364</td>\n",
       "      <td>-0.346466</td>\n",
       "      <td>-2.152157</td>\n",
       "      <td>-0.680632</td>\n",
       "      <td>one</td>\n",
       "    </tr>\n",
       "    <tr>\n",
       "      <th>2020-11-17</th>\n",
       "      <td>-1.508437</td>\n",
       "      <td>0.496845</td>\n",
       "      <td>-0.156146</td>\n",
       "      <td>-1.324961</td>\n",
       "      <td>two</td>\n",
       "    </tr>\n",
       "    <tr>\n",
       "      <th>2020-11-18</th>\n",
       "      <td>0.532797</td>\n",
       "      <td>0.480537</td>\n",
       "      <td>1.472906</td>\n",
       "      <td>0.385428</td>\n",
       "      <td>three</td>\n",
       "    </tr>\n",
       "    <tr>\n",
       "      <th>2020-11-19</th>\n",
       "      <td>-0.790208</td>\n",
       "      <td>3.632613</td>\n",
       "      <td>0.677469</td>\n",
       "      <td>0.521676</td>\n",
       "      <td>four</td>\n",
       "    </tr>\n",
       "    <tr>\n",
       "      <th>2020-11-20</th>\n",
       "      <td>0.016545</td>\n",
       "      <td>-0.456304</td>\n",
       "      <td>-0.734767</td>\n",
       "      <td>-0.957311</td>\n",
       "      <td>three</td>\n",
       "    </tr>\n",
       "  </tbody>\n",
       "</table>\n",
       "</div>"
      ],
      "text/plain": [
       "                   A         B         C         D      E\n",
       "2020-11-15  1.593635 -0.131280 -0.857837  0.280879    one\n",
       "2020-11-16  2.158364 -0.346466 -2.152157 -0.680632    one\n",
       "2020-11-17 -1.508437  0.496845 -0.156146 -1.324961    two\n",
       "2020-11-18  0.532797  0.480537  1.472906  0.385428  three\n",
       "2020-11-19 -0.790208  3.632613  0.677469  0.521676   four\n",
       "2020-11-20  0.016545 -0.456304 -0.734767 -0.957311  three"
      ]
     },
     "execution_count": 59,
     "metadata": {},
     "output_type": "execute_result"
    }
   ],
   "source": [
    "dfx"
   ]
  },
  {
   "cell_type": "code",
   "execution_count": 60,
   "metadata": {},
   "outputs": [
    {
     "data": {
      "text/html": [
       "<div>\n",
       "<style scoped>\n",
       "    .dataframe tbody tr th:only-of-type {\n",
       "        vertical-align: middle;\n",
       "    }\n",
       "\n",
       "    .dataframe tbody tr th {\n",
       "        vertical-align: top;\n",
       "    }\n",
       "\n",
       "    .dataframe thead th {\n",
       "        text-align: right;\n",
       "    }\n",
       "</style>\n",
       "<table border=\"1\" class=\"dataframe\">\n",
       "  <thead>\n",
       "    <tr style=\"text-align: right;\">\n",
       "      <th></th>\n",
       "      <th>A</th>\n",
       "      <th>B</th>\n",
       "      <th>C</th>\n",
       "      <th>D</th>\n",
       "    </tr>\n",
       "  </thead>\n",
       "  <tbody>\n",
       "    <tr>\n",
       "      <th>count</th>\n",
       "      <td>6.000000</td>\n",
       "      <td>6.000000</td>\n",
       "      <td>6.000000</td>\n",
       "      <td>6.000000</td>\n",
       "    </tr>\n",
       "    <tr>\n",
       "      <th>mean</th>\n",
       "      <td>0.333783</td>\n",
       "      <td>0.612657</td>\n",
       "      <td>-0.291755</td>\n",
       "      <td>-0.295820</td>\n",
       "    </tr>\n",
       "    <tr>\n",
       "      <th>std</th>\n",
       "      <td>1.393822</td>\n",
       "      <td>1.534082</td>\n",
       "      <td>1.268828</td>\n",
       "      <td>0.788640</td>\n",
       "    </tr>\n",
       "    <tr>\n",
       "      <th>min</th>\n",
       "      <td>-1.508437</td>\n",
       "      <td>-0.456304</td>\n",
       "      <td>-2.152157</td>\n",
       "      <td>-1.324961</td>\n",
       "    </tr>\n",
       "    <tr>\n",
       "      <th>25%</th>\n",
       "      <td>-0.588520</td>\n",
       "      <td>-0.292669</td>\n",
       "      <td>-0.827070</td>\n",
       "      <td>-0.888141</td>\n",
       "    </tr>\n",
       "    <tr>\n",
       "      <th>50%</th>\n",
       "      <td>0.274671</td>\n",
       "      <td>0.174628</td>\n",
       "      <td>-0.445457</td>\n",
       "      <td>-0.199877</td>\n",
       "    </tr>\n",
       "    <tr>\n",
       "      <th>75%</th>\n",
       "      <td>1.328426</td>\n",
       "      <td>0.492768</td>\n",
       "      <td>0.469066</td>\n",
       "      <td>0.359290</td>\n",
       "    </tr>\n",
       "    <tr>\n",
       "      <th>max</th>\n",
       "      <td>2.158364</td>\n",
       "      <td>3.632613</td>\n",
       "      <td>1.472906</td>\n",
       "      <td>0.521676</td>\n",
       "    </tr>\n",
       "  </tbody>\n",
       "</table>\n",
       "</div>"
      ],
      "text/plain": [
       "              A         B         C         D\n",
       "count  6.000000  6.000000  6.000000  6.000000\n",
       "mean   0.333783  0.612657 -0.291755 -0.295820\n",
       "std    1.393822  1.534082  1.268828  0.788640\n",
       "min   -1.508437 -0.456304 -2.152157 -1.324961\n",
       "25%   -0.588520 -0.292669 -0.827070 -0.888141\n",
       "50%    0.274671  0.174628 -0.445457 -0.199877\n",
       "75%    1.328426  0.492768  0.469066  0.359290\n",
       "max    2.158364  3.632613  1.472906  0.521676"
      ]
     },
     "execution_count": 60,
     "metadata": {},
     "output_type": "execute_result"
    }
   ],
   "source": [
    "dfx.describe()"
   ]
  },
  {
   "cell_type": "code",
   "execution_count": 64,
   "metadata": {},
   "outputs": [
    {
     "data": {
      "text/plain": [
       "A    0.333783\n",
       "B    0.612657\n",
       "C   -0.291755\n",
       "D   -0.295820\n",
       "dtype: float64"
      ]
     },
     "execution_count": 64,
     "metadata": {},
     "output_type": "execute_result"
    }
   ],
   "source": [
    "# Média de cada coluna\n",
    "dfx.mean()"
   ]
  },
  {
   "cell_type": "code",
   "execution_count": 65,
   "metadata": {},
   "outputs": [
    {
     "data": {
      "text/plain": [
       "2020-11-15    0.221349\n",
       "2020-11-16   -0.255223\n",
       "2020-11-17   -0.623175\n",
       "2020-11-18    0.717917\n",
       "2020-11-19    1.010387\n",
       "2020-11-20   -0.532959\n",
       "Freq: D, dtype: float64"
      ]
     },
     "execution_count": 65,
     "metadata": {},
     "output_type": "execute_result"
    }
   ],
   "source": [
    "# Média de cada linha\n",
    "dfx.mean(1)"
   ]
  },
  {
   "cell_type": "code",
   "execution_count": 67,
   "metadata": {},
   "outputs": [
    {
     "data": {
      "text/html": [
       "<div>\n",
       "<style scoped>\n",
       "    .dataframe tbody tr th:only-of-type {\n",
       "        vertical-align: middle;\n",
       "    }\n",
       "\n",
       "    .dataframe tbody tr th {\n",
       "        vertical-align: top;\n",
       "    }\n",
       "\n",
       "    .dataframe thead th {\n",
       "        text-align: right;\n",
       "    }\n",
       "</style>\n",
       "<table border=\"1\" class=\"dataframe\">\n",
       "  <thead>\n",
       "    <tr style=\"text-align: right;\">\n",
       "      <th></th>\n",
       "      <th>A</th>\n",
       "      <th>B</th>\n",
       "      <th>C</th>\n",
       "      <th>D</th>\n",
       "      <th>E</th>\n",
       "    </tr>\n",
       "  </thead>\n",
       "  <tbody>\n",
       "    <tr>\n",
       "      <th>2020-11-15</th>\n",
       "      <td>1.593635</td>\n",
       "      <td>-0.131280</td>\n",
       "      <td>-0.857837</td>\n",
       "      <td>0.280879</td>\n",
       "      <td>one</td>\n",
       "    </tr>\n",
       "    <tr>\n",
       "      <th>2020-11-16</th>\n",
       "      <td>2.158364</td>\n",
       "      <td>-0.346466</td>\n",
       "      <td>-2.152157</td>\n",
       "      <td>-0.680632</td>\n",
       "      <td>one</td>\n",
       "    </tr>\n",
       "    <tr>\n",
       "      <th>2020-11-17</th>\n",
       "      <td>-1.508437</td>\n",
       "      <td>0.496845</td>\n",
       "      <td>-0.156146</td>\n",
       "      <td>-1.324961</td>\n",
       "      <td>two</td>\n",
       "    </tr>\n",
       "    <tr>\n",
       "      <th>2020-11-18</th>\n",
       "      <td>0.532797</td>\n",
       "      <td>0.480537</td>\n",
       "      <td>1.472906</td>\n",
       "      <td>0.385428</td>\n",
       "      <td>three</td>\n",
       "    </tr>\n",
       "    <tr>\n",
       "      <th>2020-11-19</th>\n",
       "      <td>-0.790208</td>\n",
       "      <td>3.632613</td>\n",
       "      <td>0.677469</td>\n",
       "      <td>0.521676</td>\n",
       "      <td>four</td>\n",
       "    </tr>\n",
       "    <tr>\n",
       "      <th>2020-11-20</th>\n",
       "      <td>0.016545</td>\n",
       "      <td>-0.456304</td>\n",
       "      <td>-0.734767</td>\n",
       "      <td>-0.957311</td>\n",
       "      <td>three</td>\n",
       "    </tr>\n",
       "  </tbody>\n",
       "</table>\n",
       "</div>"
      ],
      "text/plain": [
       "                   A         B         C         D      E\n",
       "2020-11-15  1.593635 -0.131280 -0.857837  0.280879    one\n",
       "2020-11-16  2.158364 -0.346466 -2.152157 -0.680632    one\n",
       "2020-11-17 -1.508437  0.496845 -0.156146 -1.324961    two\n",
       "2020-11-18  0.532797  0.480537  1.472906  0.385428  three\n",
       "2020-11-19 -0.790208  3.632613  0.677469  0.521676   four\n",
       "2020-11-20  0.016545 -0.456304 -0.734767 -0.957311  three"
      ]
     },
     "execution_count": 67,
     "metadata": {},
     "output_type": "execute_result"
    }
   ],
   "source": [
    "dfx"
   ]
  }
 ],
 "metadata": {
  "kernelspec": {
   "display_name": "Python 3",
   "language": "python",
   "name": "python3"
  },
  "language_info": {
   "codemirror_mode": {
    "name": "ipython",
    "version": 3
   },
   "file_extension": ".py",
   "mimetype": "text/x-python",
   "name": "python",
   "nbconvert_exporter": "python",
   "pygments_lexer": "ipython3",
   "version": "3.8.3"
  }
 },
 "nbformat": 4,
 "nbformat_minor": 4
}
