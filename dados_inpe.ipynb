{
 "cells": [
  {
   "cell_type": "code",
   "execution_count": 2,
   "metadata": {},
   "outputs": [],
   "source": [
    "# Incêndios na Amazonia\n",
    "import pandas as pd\n",
    "import numpy as np\n",
    "import seaborn as sb\n",
    "import statistics as st\n",
    "import matplotlib.pyplot as plt"
   ]
  },
  {
   "cell_type": "code",
   "execution_count": 3,
   "metadata": {},
   "outputs": [],
   "source": [
    "dados_inpe = pd.read_csv(\"inpe_brazilian_amazon_fires_1999_2019.csv\")"
   ]
  },
  {
   "cell_type": "code",
   "execution_count": 4,
   "metadata": {},
   "outputs": [
    {
     "data": {
      "text/html": [
       "<div>\n",
       "<style scoped>\n",
       "    .dataframe tbody tr th:only-of-type {\n",
       "        vertical-align: middle;\n",
       "    }\n",
       "\n",
       "    .dataframe tbody tr th {\n",
       "        vertical-align: top;\n",
       "    }\n",
       "\n",
       "    .dataframe thead th {\n",
       "        text-align: right;\n",
       "    }\n",
       "</style>\n",
       "<table border=\"1\" class=\"dataframe\">\n",
       "  <thead>\n",
       "    <tr style=\"text-align: right;\">\n",
       "      <th></th>\n",
       "      <th>year</th>\n",
       "      <th>month</th>\n",
       "      <th>state</th>\n",
       "      <th>latitude</th>\n",
       "      <th>longitude</th>\n",
       "      <th>firespots</th>\n",
       "    </tr>\n",
       "  </thead>\n",
       "  <tbody>\n",
       "    <tr>\n",
       "      <th>0</th>\n",
       "      <td>1999</td>\n",
       "      <td>1</td>\n",
       "      <td>AMAZONAS</td>\n",
       "      <td>-2.371113</td>\n",
       "      <td>-59.899933</td>\n",
       "      <td>3</td>\n",
       "    </tr>\n",
       "    <tr>\n",
       "      <th>1</th>\n",
       "      <td>1999</td>\n",
       "      <td>1</td>\n",
       "      <td>MARANHAO</td>\n",
       "      <td>-2.257395</td>\n",
       "      <td>-45.487831</td>\n",
       "      <td>36</td>\n",
       "    </tr>\n",
       "    <tr>\n",
       "      <th>2</th>\n",
       "      <td>1999</td>\n",
       "      <td>1</td>\n",
       "      <td>MATO GROSSO</td>\n",
       "      <td>-12.660633</td>\n",
       "      <td>-55.057989</td>\n",
       "      <td>18</td>\n",
       "    </tr>\n",
       "    <tr>\n",
       "      <th>3</th>\n",
       "      <td>1999</td>\n",
       "      <td>1</td>\n",
       "      <td>PARA</td>\n",
       "      <td>-2.474820</td>\n",
       "      <td>-48.546967</td>\n",
       "      <td>87</td>\n",
       "    </tr>\n",
       "    <tr>\n",
       "      <th>4</th>\n",
       "      <td>1999</td>\n",
       "      <td>1</td>\n",
       "      <td>RONDONIA</td>\n",
       "      <td>-12.861700</td>\n",
       "      <td>-60.513100</td>\n",
       "      <td>1</td>\n",
       "    </tr>\n",
       "  </tbody>\n",
       "</table>\n",
       "</div>"
      ],
      "text/plain": [
       "   year  month        state   latitude  longitude  firespots\n",
       "0  1999      1     AMAZONAS  -2.371113 -59.899933          3\n",
       "1  1999      1     MARANHAO  -2.257395 -45.487831         36\n",
       "2  1999      1  MATO GROSSO -12.660633 -55.057989         18\n",
       "3  1999      1         PARA  -2.474820 -48.546967         87\n",
       "4  1999      1     RONDONIA -12.861700 -60.513100          1"
      ]
     },
     "execution_count": 4,
     "metadata": {},
     "output_type": "execute_result"
    }
   ],
   "source": [
    "dados_inpe.head()"
   ]
  },
  {
   "cell_type": "code",
   "execution_count": 5,
   "metadata": {},
   "outputs": [
    {
     "data": {
      "text/html": [
       "<div>\n",
       "<style scoped>\n",
       "    .dataframe tbody tr th:only-of-type {\n",
       "        vertical-align: middle;\n",
       "    }\n",
       "\n",
       "    .dataframe tbody tr th {\n",
       "        vertical-align: top;\n",
       "    }\n",
       "\n",
       "    .dataframe thead th {\n",
       "        text-align: right;\n",
       "    }\n",
       "</style>\n",
       "<table border=\"1\" class=\"dataframe\">\n",
       "  <thead>\n",
       "    <tr style=\"text-align: right;\">\n",
       "      <th></th>\n",
       "      <th>year</th>\n",
       "      <th>month</th>\n",
       "      <th>state</th>\n",
       "      <th>latitude</th>\n",
       "      <th>longitude</th>\n",
       "      <th>firespots</th>\n",
       "    </tr>\n",
       "  </thead>\n",
       "  <tbody>\n",
       "    <tr>\n",
       "      <th>2099</th>\n",
       "      <td>2019</td>\n",
       "      <td>12</td>\n",
       "      <td>MATO GROSSO</td>\n",
       "      <td>-12.138385</td>\n",
       "      <td>-56.066297</td>\n",
       "      <td>148</td>\n",
       "    </tr>\n",
       "    <tr>\n",
       "      <th>2100</th>\n",
       "      <td>2019</td>\n",
       "      <td>12</td>\n",
       "      <td>PARA</td>\n",
       "      <td>-2.976727</td>\n",
       "      <td>-50.909316</td>\n",
       "      <td>1280</td>\n",
       "    </tr>\n",
       "    <tr>\n",
       "      <th>2101</th>\n",
       "      <td>2019</td>\n",
       "      <td>12</td>\n",
       "      <td>RONDONIA</td>\n",
       "      <td>-10.809262</td>\n",
       "      <td>-62.890452</td>\n",
       "      <td>42</td>\n",
       "    </tr>\n",
       "    <tr>\n",
       "      <th>2102</th>\n",
       "      <td>2019</td>\n",
       "      <td>12</td>\n",
       "      <td>RORAIMA</td>\n",
       "      <td>2.856667</td>\n",
       "      <td>-60.431963</td>\n",
       "      <td>27</td>\n",
       "    </tr>\n",
       "    <tr>\n",
       "      <th>2103</th>\n",
       "      <td>2019</td>\n",
       "      <td>12</td>\n",
       "      <td>TOCANTINS</td>\n",
       "      <td>-6.769381</td>\n",
       "      <td>-48.475667</td>\n",
       "      <td>21</td>\n",
       "    </tr>\n",
       "  </tbody>\n",
       "</table>\n",
       "</div>"
      ],
      "text/plain": [
       "      year  month        state   latitude  longitude  firespots\n",
       "2099  2019     12  MATO GROSSO -12.138385 -56.066297        148\n",
       "2100  2019     12         PARA  -2.976727 -50.909316       1280\n",
       "2101  2019     12     RONDONIA -10.809262 -62.890452         42\n",
       "2102  2019     12      RORAIMA   2.856667 -60.431963         27\n",
       "2103  2019     12    TOCANTINS  -6.769381 -48.475667         21"
      ]
     },
     "execution_count": 5,
     "metadata": {},
     "output_type": "execute_result"
    }
   ],
   "source": [
    "dados_inpe.tail()"
   ]
  },
  {
   "cell_type": "code",
   "execution_count": 6,
   "metadata": {},
   "outputs": [],
   "source": [
    "agrupado = dados_inpe.groupby(['state']).size()"
   ]
  },
  {
   "cell_type": "code",
   "execution_count": 7,
   "metadata": {},
   "outputs": [
    {
     "data": {
      "text/plain": [
       "state\n",
       "ACRE           204\n",
       "AMAPA          197\n",
       "AMAZONAS       250\n",
       "MARANHAO       241\n",
       "MATO GROSSO    252\n",
       "PARA           250\n",
       "RONDONIA       246\n",
       "RORAIMA        243\n",
       "TOCANTINS      221\n",
       "dtype: int64"
      ]
     },
     "execution_count": 7,
     "metadata": {},
     "output_type": "execute_result"
    }
   ],
   "source": [
    "agrupado"
   ]
  },
  {
   "cell_type": "code",
   "execution_count": 8,
   "metadata": {},
   "outputs": [
    {
     "data": {
      "text/plain": [
       "<matplotlib.axes._subplots.AxesSubplot at 0x7fb33fcaa040>"
      ]
     },
     "execution_count": 8,
     "metadata": {},
     "output_type": "execute_result"
    },
    {
     "data": {
      "image/png": "[encoded data removed]",
      "text/plain": [
       "<Figure size 432x288 with 1 Axes>"
      ]
     },
     "metadata": {
      "needs_background": "light"
     },
     "output_type": "display_data"
    }
   ],
   "source": [
    "# Verificado dois problemas, estados inexistentes e estado fora da região sul\n",
    "#imprimir um gráfico de barras comum\n",
    "agrupado.plot.bar(color='green')"
   ]
  },
  {
   "cell_type": "code",
   "execution_count": 9,
   "metadata": {},
   "outputs": [
    {
     "data": {
      "text/plain": [
       "Text(0.5, 1.0, 'Focos de Incêndio')"
      ]
     },
     "execution_count": 9,
     "metadata": {},
     "output_type": "execute_result"
    },
    {
     "data": {
      "image/png": "[encoded data removed]",
      "text/plain": [
       "<Figure size 432x288 with 1 Axes>"
      ]
     },
     "metadata": {
      "needs_background": "light"
     },
     "output_type": "display_data"
    }
   ],
   "source": [
    "# Gera dados com histograma(distplot)\n",
    "sb.distplot(dados_inpe['firespots']).set_title('Focos de Incêndio')"
   ]
  },
  {
   "cell_type": "code",
   "execution_count": 10,
   "metadata": {},
   "outputs": [
    {
     "data": {
      "text/plain": [
       "year         0\n",
       "month        0\n",
       "state        0\n",
       "latitude     0\n",
       "longitude    0\n",
       "firespots    0\n",
       "dtype: int64"
      ]
     },
     "execution_count": 10,
     "metadata": {},
     "output_type": "execute_result"
    }
   ],
   "source": [
    "dados_inpe.isnull().sum()"
   ]
  },
  {
   "cell_type": "code",
   "execution_count": 11,
   "metadata": {},
   "outputs": [
    {
     "data": {
      "text/plain": [
       "count     2104.000000\n",
       "mean      1167.417776\n",
       "std       2959.558714\n",
       "min          1.000000\n",
       "25%         16.000000\n",
       "50%        121.000000\n",
       "75%        755.000000\n",
       "max      37926.000000\n",
       "Name: firespots, dtype: float64"
      ]
     },
     "execution_count": 11,
     "metadata": {},
     "output_type": "execute_result"
    }
   ],
   "source": [
    "dados_inpe['firespots'].describe()"
   ]
  },
  {
   "cell_type": "code",
   "execution_count": 12,
   "metadata": {},
   "outputs": [
    {
     "data": {
      "text/html": [
       "<div>\n",
       "<style scoped>\n",
       "    .dataframe tbody tr th:only-of-type {\n",
       "        vertical-align: middle;\n",
       "    }\n",
       "\n",
       "    .dataframe tbody tr th {\n",
       "        vertical-align: top;\n",
       "    }\n",
       "\n",
       "    .dataframe thead th {\n",
       "        text-align: right;\n",
       "    }\n",
       "</style>\n",
       "<table border=\"1\" class=\"dataframe\">\n",
       "  <thead>\n",
       "    <tr style=\"text-align: right;\">\n",
       "      <th></th>\n",
       "      <th>year</th>\n",
       "      <th>month</th>\n",
       "      <th>state</th>\n",
       "      <th>latitude</th>\n",
       "      <th>longitude</th>\n",
       "      <th>firespots</th>\n",
       "    </tr>\n",
       "  </thead>\n",
       "  <tbody>\n",
       "    <tr>\n",
       "      <th>47</th>\n",
       "      <td>1999</td>\n",
       "      <td>8</td>\n",
       "      <td>MATO GROSSO</td>\n",
       "      <td>-11.358813</td>\n",
       "      <td>-56.228129</td>\n",
       "      <td>12707</td>\n",
       "    </tr>\n",
       "    <tr>\n",
       "      <th>312</th>\n",
       "      <td>2002</td>\n",
       "      <td>8</td>\n",
       "      <td>MATO GROSSO</td>\n",
       "      <td>-10.646819</td>\n",
       "      <td>-55.591126</td>\n",
       "      <td>23642</td>\n",
       "    </tr>\n",
       "    <tr>\n",
       "      <th>313</th>\n",
       "      <td>2002</td>\n",
       "      <td>8</td>\n",
       "      <td>PARA</td>\n",
       "      <td>-7.272872</td>\n",
       "      <td>-51.737227</td>\n",
       "      <td>37926</td>\n",
       "    </tr>\n",
       "    <tr>\n",
       "      <th>321</th>\n",
       "      <td>2002</td>\n",
       "      <td>9</td>\n",
       "      <td>MATO GROSSO</td>\n",
       "      <td>-11.716144</td>\n",
       "      <td>-56.026531</td>\n",
       "      <td>23385</td>\n",
       "    </tr>\n",
       "    <tr>\n",
       "      <th>322</th>\n",
       "      <td>2002</td>\n",
       "      <td>9</td>\n",
       "      <td>PARA</td>\n",
       "      <td>-5.894362</td>\n",
       "      <td>-50.456673</td>\n",
       "      <td>22054</td>\n",
       "    </tr>\n",
       "    <tr>\n",
       "      <th>323</th>\n",
       "      <td>2002</td>\n",
       "      <td>9</td>\n",
       "      <td>RONDONIA</td>\n",
       "      <td>-11.007743</td>\n",
       "      <td>-62.702072</td>\n",
       "      <td>22133</td>\n",
       "    </tr>\n",
       "    <tr>\n",
       "      <th>330</th>\n",
       "      <td>2002</td>\n",
       "      <td>10</td>\n",
       "      <td>MATO GROSSO</td>\n",
       "      <td>-12.293828</td>\n",
       "      <td>-56.839623</td>\n",
       "      <td>13177</td>\n",
       "    </tr>\n",
       "    <tr>\n",
       "      <th>331</th>\n",
       "      <td>2002</td>\n",
       "      <td>10</td>\n",
       "      <td>PARA</td>\n",
       "      <td>-4.161796</td>\n",
       "      <td>-50.611925</td>\n",
       "      <td>15718</td>\n",
       "    </tr>\n",
       "    <tr>\n",
       "      <th>340</th>\n",
       "      <td>2002</td>\n",
       "      <td>11</td>\n",
       "      <td>PARA</td>\n",
       "      <td>-2.821384</td>\n",
       "      <td>-50.778367</td>\n",
       "      <td>20777</td>\n",
       "    </tr>\n",
       "    <tr>\n",
       "      <th>414</th>\n",
       "      <td>2003</td>\n",
       "      <td>8</td>\n",
       "      <td>MATO GROSSO</td>\n",
       "      <td>-10.834949</td>\n",
       "      <td>-57.269472</td>\n",
       "      <td>10224</td>\n",
       "    </tr>\n",
       "    <tr>\n",
       "      <th>423</th>\n",
       "      <td>2003</td>\n",
       "      <td>9</td>\n",
       "      <td>MATO GROSSO</td>\n",
       "      <td>-11.067408</td>\n",
       "      <td>-55.677339</td>\n",
       "      <td>14666</td>\n",
       "    </tr>\n",
       "    <tr>\n",
       "      <th>424</th>\n",
       "      <td>2003</td>\n",
       "      <td>9</td>\n",
       "      <td>PARA</td>\n",
       "      <td>-6.645189</td>\n",
       "      <td>-50.840452</td>\n",
       "      <td>12633</td>\n",
       "    </tr>\n",
       "    <tr>\n",
       "      <th>425</th>\n",
       "      <td>2003</td>\n",
       "      <td>9</td>\n",
       "      <td>RONDONIA</td>\n",
       "      <td>-11.075364</td>\n",
       "      <td>-62.839017</td>\n",
       "      <td>10774</td>\n",
       "    </tr>\n",
       "    <tr>\n",
       "      <th>442</th>\n",
       "      <td>2003</td>\n",
       "      <td>11</td>\n",
       "      <td>PARA</td>\n",
       "      <td>-2.655992</td>\n",
       "      <td>-50.398455</td>\n",
       "      <td>10732</td>\n",
       "    </tr>\n",
       "    <tr>\n",
       "      <th>509</th>\n",
       "      <td>2004</td>\n",
       "      <td>7</td>\n",
       "      <td>MATO GROSSO</td>\n",
       "      <td>-11.583482</td>\n",
       "      <td>-55.881536</td>\n",
       "      <td>10159</td>\n",
       "    </tr>\n",
       "    <tr>\n",
       "      <th>518</th>\n",
       "      <td>2004</td>\n",
       "      <td>8</td>\n",
       "      <td>MATO GROSSO</td>\n",
       "      <td>-10.688379</td>\n",
       "      <td>-57.048712</td>\n",
       "      <td>12906</td>\n",
       "    </tr>\n",
       "    <tr>\n",
       "      <th>519</th>\n",
       "      <td>2004</td>\n",
       "      <td>8</td>\n",
       "      <td>PARA</td>\n",
       "      <td>-7.184946</td>\n",
       "      <td>-52.627418</td>\n",
       "      <td>17861</td>\n",
       "    </tr>\n",
       "    <tr>\n",
       "      <th>527</th>\n",
       "      <td>2004</td>\n",
       "      <td>9</td>\n",
       "      <td>MATO GROSSO</td>\n",
       "      <td>-11.093895</td>\n",
       "      <td>-56.204235</td>\n",
       "      <td>24886</td>\n",
       "    </tr>\n",
       "    <tr>\n",
       "      <th>528</th>\n",
       "      <td>2004</td>\n",
       "      <td>9</td>\n",
       "      <td>PARA</td>\n",
       "      <td>-6.770647</td>\n",
       "      <td>-51.078457</td>\n",
       "      <td>14249</td>\n",
       "    </tr>\n",
       "    <tr>\n",
       "      <th>529</th>\n",
       "      <td>2004</td>\n",
       "      <td>9</td>\n",
       "      <td>RONDONIA</td>\n",
       "      <td>-10.868932</td>\n",
       "      <td>-62.798455</td>\n",
       "      <td>23414</td>\n",
       "    </tr>\n",
       "    <tr>\n",
       "      <th>546</th>\n",
       "      <td>2004</td>\n",
       "      <td>11</td>\n",
       "      <td>PARA</td>\n",
       "      <td>-2.799083</td>\n",
       "      <td>-51.080596</td>\n",
       "      <td>15958</td>\n",
       "    </tr>\n",
       "    <tr>\n",
       "      <th>555</th>\n",
       "      <td>2004</td>\n",
       "      <td>12</td>\n",
       "      <td>PARA</td>\n",
       "      <td>-2.336709</td>\n",
       "      <td>-50.803627</td>\n",
       "      <td>10231</td>\n",
       "    </tr>\n",
       "    <tr>\n",
       "      <th>621</th>\n",
       "      <td>2005</td>\n",
       "      <td>8</td>\n",
       "      <td>MATO GROSSO</td>\n",
       "      <td>-10.516064</td>\n",
       "      <td>-57.329257</td>\n",
       "      <td>13065</td>\n",
       "    </tr>\n",
       "    <tr>\n",
       "      <th>622</th>\n",
       "      <td>2005</td>\n",
       "      <td>8</td>\n",
       "      <td>PARA</td>\n",
       "      <td>-6.767477</td>\n",
       "      <td>-52.125310</td>\n",
       "      <td>23635</td>\n",
       "    </tr>\n",
       "    <tr>\n",
       "      <th>623</th>\n",
       "      <td>2005</td>\n",
       "      <td>8</td>\n",
       "      <td>RONDONIA</td>\n",
       "      <td>-10.401484</td>\n",
       "      <td>-63.456920</td>\n",
       "      <td>12798</td>\n",
       "    </tr>\n",
       "    <tr>\n",
       "      <th>630</th>\n",
       "      <td>2005</td>\n",
       "      <td>9</td>\n",
       "      <td>MATO GROSSO</td>\n",
       "      <td>-10.941810</td>\n",
       "      <td>-56.687458</td>\n",
       "      <td>22116</td>\n",
       "    </tr>\n",
       "    <tr>\n",
       "      <th>631</th>\n",
       "      <td>2005</td>\n",
       "      <td>9</td>\n",
       "      <td>PARA</td>\n",
       "      <td>-6.313503</td>\n",
       "      <td>-51.058478</td>\n",
       "      <td>12728</td>\n",
       "    </tr>\n",
       "    <tr>\n",
       "      <th>632</th>\n",
       "      <td>2005</td>\n",
       "      <td>9</td>\n",
       "      <td>RONDONIA</td>\n",
       "      <td>-10.782975</td>\n",
       "      <td>-62.966879</td>\n",
       "      <td>20902</td>\n",
       "    </tr>\n",
       "    <tr>\n",
       "      <th>723</th>\n",
       "      <td>2006</td>\n",
       "      <td>8</td>\n",
       "      <td>PARA</td>\n",
       "      <td>-6.526728</td>\n",
       "      <td>-52.573809</td>\n",
       "      <td>15064</td>\n",
       "    </tr>\n",
       "    <tr>\n",
       "      <th>731</th>\n",
       "      <td>2006</td>\n",
       "      <td>9</td>\n",
       "      <td>MATO GROSSO</td>\n",
       "      <td>-10.916533</td>\n",
       "      <td>-56.538588</td>\n",
       "      <td>14105</td>\n",
       "    </tr>\n",
       "    <tr>\n",
       "      <th>732</th>\n",
       "      <td>2006</td>\n",
       "      <td>9</td>\n",
       "      <td>PARA</td>\n",
       "      <td>-6.132622</td>\n",
       "      <td>-51.525266</td>\n",
       "      <td>13225</td>\n",
       "    </tr>\n",
       "    <tr>\n",
       "      <th>733</th>\n",
       "      <td>2006</td>\n",
       "      <td>9</td>\n",
       "      <td>RONDONIA</td>\n",
       "      <td>-10.716143</td>\n",
       "      <td>-63.123068</td>\n",
       "      <td>14938</td>\n",
       "    </tr>\n",
       "    <tr>\n",
       "      <th>826</th>\n",
       "      <td>2007</td>\n",
       "      <td>8</td>\n",
       "      <td>MATO GROSSO</td>\n",
       "      <td>-10.797964</td>\n",
       "      <td>-56.543138</td>\n",
       "      <td>11221</td>\n",
       "    </tr>\n",
       "    <tr>\n",
       "      <th>827</th>\n",
       "      <td>2007</td>\n",
       "      <td>8</td>\n",
       "      <td>PARA</td>\n",
       "      <td>-6.963599</td>\n",
       "      <td>-52.185279</td>\n",
       "      <td>21386</td>\n",
       "    </tr>\n",
       "    <tr>\n",
       "      <th>835</th>\n",
       "      <td>2007</td>\n",
       "      <td>9</td>\n",
       "      <td>MATO GROSSO</td>\n",
       "      <td>-11.018350</td>\n",
       "      <td>-56.162919</td>\n",
       "      <td>24779</td>\n",
       "    </tr>\n",
       "    <tr>\n",
       "      <th>836</th>\n",
       "      <td>2007</td>\n",
       "      <td>9</td>\n",
       "      <td>PARA</td>\n",
       "      <td>-6.799970</td>\n",
       "      <td>-50.979266</td>\n",
       "      <td>22055</td>\n",
       "    </tr>\n",
       "    <tr>\n",
       "      <th>837</th>\n",
       "      <td>2007</td>\n",
       "      <td>9</td>\n",
       "      <td>RONDONIA</td>\n",
       "      <td>-10.827744</td>\n",
       "      <td>-63.116114</td>\n",
       "      <td>14044</td>\n",
       "    </tr>\n",
       "    <tr>\n",
       "      <th>854</th>\n",
       "      <td>2007</td>\n",
       "      <td>11</td>\n",
       "      <td>PARA</td>\n",
       "      <td>-2.786492</td>\n",
       "      <td>-50.681172</td>\n",
       "      <td>10114</td>\n",
       "    </tr>\n",
       "    <tr>\n",
       "      <th>927</th>\n",
       "      <td>2008</td>\n",
       "      <td>8</td>\n",
       "      <td>PARA</td>\n",
       "      <td>-6.071778</td>\n",
       "      <td>-52.708019</td>\n",
       "      <td>11035</td>\n",
       "    </tr>\n",
       "    <tr>\n",
       "      <th>945</th>\n",
       "      <td>2008</td>\n",
       "      <td>10</td>\n",
       "      <td>PARA</td>\n",
       "      <td>-4.404706</td>\n",
       "      <td>-50.892089</td>\n",
       "      <td>11568</td>\n",
       "    </tr>\n",
       "    <tr>\n",
       "      <th>1057</th>\n",
       "      <td>2009</td>\n",
       "      <td>11</td>\n",
       "      <td>PARA</td>\n",
       "      <td>-2.792554</td>\n",
       "      <td>-50.993263</td>\n",
       "      <td>12485</td>\n",
       "    </tr>\n",
       "    <tr>\n",
       "      <th>1133</th>\n",
       "      <td>2010</td>\n",
       "      <td>8</td>\n",
       "      <td>PARA</td>\n",
       "      <td>-7.267769</td>\n",
       "      <td>-52.092526</td>\n",
       "      <td>21677</td>\n",
       "    </tr>\n",
       "    <tr>\n",
       "      <th>1141</th>\n",
       "      <td>2010</td>\n",
       "      <td>9</td>\n",
       "      <td>MATO GROSSO</td>\n",
       "      <td>-11.252001</td>\n",
       "      <td>-55.704599</td>\n",
       "      <td>10270</td>\n",
       "    </tr>\n",
       "    <tr>\n",
       "      <th>1142</th>\n",
       "      <td>2010</td>\n",
       "      <td>9</td>\n",
       "      <td>PARA</td>\n",
       "      <td>-6.806031</td>\n",
       "      <td>-51.434764</td>\n",
       "      <td>15187</td>\n",
       "    </tr>\n",
       "    <tr>\n",
       "      <th>1865</th>\n",
       "      <td>2017</td>\n",
       "      <td>9</td>\n",
       "      <td>PARA</td>\n",
       "      <td>-6.638269</td>\n",
       "      <td>-52.085357</td>\n",
       "      <td>15735</td>\n",
       "    </tr>\n",
       "    <tr>\n",
       "      <th>2064</th>\n",
       "      <td>2019</td>\n",
       "      <td>8</td>\n",
       "      <td>PARA</td>\n",
       "      <td>-6.484579</td>\n",
       "      <td>-53.723136</td>\n",
       "      <td>10185</td>\n",
       "    </tr>\n",
       "  </tbody>\n",
       "</table>\n",
       "</div>"
      ],
      "text/plain": [
       "      year  month        state   latitude  longitude  firespots\n",
       "47    1999      8  MATO GROSSO -11.358813 -56.228129      12707\n",
       "312   2002      8  MATO GROSSO -10.646819 -55.591126      23642\n",
       "313   2002      8         PARA  -7.272872 -51.737227      37926\n",
       "321   2002      9  MATO GROSSO -11.716144 -56.026531      23385\n",
       "322   2002      9         PARA  -5.894362 -50.456673      22054\n",
       "323   2002      9     RONDONIA -11.007743 -62.702072      22133\n",
       "330   2002     10  MATO GROSSO -12.293828 -56.839623      13177\n",
       "331   2002     10         PARA  -4.161796 -50.611925      15718\n",
       "340   2002     11         PARA  -2.821384 -50.778367      20777\n",
       "414   2003      8  MATO GROSSO -10.834949 -57.269472      10224\n",
       "423   2003      9  MATO GROSSO -11.067408 -55.677339      14666\n",
       "424   2003      9         PARA  -6.645189 -50.840452      12633\n",
       "425   2003      9     RONDONIA -11.075364 -62.839017      10774\n",
       "442   2003     11         PARA  -2.655992 -50.398455      10732\n",
       "509   2004      7  MATO GROSSO -11.583482 -55.881536      10159\n",
       "518   2004      8  MATO GROSSO -10.688379 -57.048712      12906\n",
       "519   2004      8         PARA  -7.184946 -52.627418      17861\n",
       "527   2004      9  MATO GROSSO -11.093895 -56.204235      24886\n",
       "528   2004      9         PARA  -6.770647 -51.078457      14249\n",
       "529   2004      9     RONDONIA -10.868932 -62.798455      23414\n",
       "546   2004     11         PARA  -2.799083 -51.080596      15958\n",
       "555   2004     12         PARA  -2.336709 -50.803627      10231\n",
       "621   2005      8  MATO GROSSO -10.516064 -57.329257      13065\n",
       "622   2005      8         PARA  -6.767477 -52.125310      23635\n",
       "623   2005      8     RONDONIA -10.401484 -63.456920      12798\n",
       "630   2005      9  MATO GROSSO -10.941810 -56.687458      22116\n",
       "631   2005      9         PARA  -6.313503 -51.058478      12728\n",
       "632   2005      9     RONDONIA -10.782975 -62.966879      20902\n",
       "723   2006      8         PARA  -6.526728 -52.573809      15064\n",
       "731   2006      9  MATO GROSSO -10.916533 -56.538588      14105\n",
       "732   2006      9         PARA  -6.132622 -51.525266      13225\n",
       "733   2006      9     RONDONIA -10.716143 -63.123068      14938\n",
       "826   2007      8  MATO GROSSO -10.797964 -56.543138      11221\n",
       "827   2007      8         PARA  -6.963599 -52.185279      21386\n",
       "835   2007      9  MATO GROSSO -11.018350 -56.162919      24779\n",
       "836   2007      9         PARA  -6.799970 -50.979266      22055\n",
       "837   2007      9     RONDONIA -10.827744 -63.116114      14044\n",
       "854   2007     11         PARA  -2.786492 -50.681172      10114\n",
       "927   2008      8         PARA  -6.071778 -52.708019      11035\n",
       "945   2008     10         PARA  -4.404706 -50.892089      11568\n",
       "1057  2009     11         PARA  -2.792554 -50.993263      12485\n",
       "1133  2010      8         PARA  -7.267769 -52.092526      21677\n",
       "1141  2010      9  MATO GROSSO -11.252001 -55.704599      10270\n",
       "1142  2010      9         PARA  -6.806031 -51.434764      15187\n",
       "1865  2017      9         PARA  -6.638269 -52.085357      15735\n",
       "2064  2019      8         PARA  -6.484579 -53.723136      10185"
      ]
     },
     "execution_count": 12,
     "metadata": {},
     "output_type": "execute_result"
    }
   ],
   "source": [
    "maximo = dados_inpe.loc[(dados_inpe['firespots'] > 10000)]\n",
    "maximo"
   ]
  },
  {
   "cell_type": "code",
   "execution_count": 13,
   "metadata": {},
   "outputs": [
    {
     "data": {
      "text/html": [
       "<div>\n",
       "<style scoped>\n",
       "    .dataframe tbody tr th:only-of-type {\n",
       "        vertical-align: middle;\n",
       "    }\n",
       "\n",
       "    .dataframe tbody tr th {\n",
       "        vertical-align: top;\n",
       "    }\n",
       "\n",
       "    .dataframe thead th {\n",
       "        text-align: right;\n",
       "    }\n",
       "</style>\n",
       "<table border=\"1\" class=\"dataframe\">\n",
       "  <thead>\n",
       "    <tr style=\"text-align: right;\">\n",
       "      <th></th>\n",
       "      <th>year</th>\n",
       "      <th>month</th>\n",
       "      <th>state</th>\n",
       "      <th>latitude</th>\n",
       "      <th>longitude</th>\n",
       "      <th>firespots</th>\n",
       "    </tr>\n",
       "  </thead>\n",
       "  <tbody>\n",
       "    <tr>\n",
       "      <th>0</th>\n",
       "      <td>1999</td>\n",
       "      <td>1</td>\n",
       "      <td>AMAZONAS</td>\n",
       "      <td>-2.371113</td>\n",
       "      <td>-59.899933</td>\n",
       "      <td>3</td>\n",
       "    </tr>\n",
       "    <tr>\n",
       "      <th>7</th>\n",
       "      <td>1999</td>\n",
       "      <td>2</td>\n",
       "      <td>AMAZONAS</td>\n",
       "      <td>-2.763167</td>\n",
       "      <td>-63.429781</td>\n",
       "      <td>43</td>\n",
       "    </tr>\n",
       "    <tr>\n",
       "      <th>13</th>\n",
       "      <td>1999</td>\n",
       "      <td>3</td>\n",
       "      <td>AMAZONAS</td>\n",
       "      <td>-4.104806</td>\n",
       "      <td>-66.101414</td>\n",
       "      <td>7</td>\n",
       "    </tr>\n",
       "    <tr>\n",
       "      <th>19</th>\n",
       "      <td>1999</td>\n",
       "      <td>4</td>\n",
       "      <td>AMAZONAS</td>\n",
       "      <td>-3.733060</td>\n",
       "      <td>-63.645850</td>\n",
       "      <td>2</td>\n",
       "    </tr>\n",
       "    <tr>\n",
       "      <th>29</th>\n",
       "      <td>1999</td>\n",
       "      <td>6</td>\n",
       "      <td>AMAZONAS</td>\n",
       "      <td>-2.087541</td>\n",
       "      <td>-64.482929</td>\n",
       "      <td>7</td>\n",
       "    </tr>\n",
       "  </tbody>\n",
       "</table>\n",
       "</div>"
      ],
      "text/plain": [
       "    year  month     state  latitude  longitude  firespots\n",
       "0   1999      1  AMAZONAS -2.371113 -59.899933          3\n",
       "7   1999      2  AMAZONAS -2.763167 -63.429781         43\n",
       "13  1999      3  AMAZONAS -4.104806 -66.101414          7\n",
       "19  1999      4  AMAZONAS -3.733060 -63.645850          2\n",
       "29  1999      6  AMAZONAS -2.087541 -64.482929          7"
      ]
     },
     "execution_count": 13,
     "metadata": {},
     "output_type": "execute_result"
    }
   ],
   "source": [
    "# aqui seria legal filtrar por estado e sumarizar por ano, pra aí então exibir os gráficos\n",
    "amazonas = dados_inpe.loc[(dados_inpe['state'] == 'AMAZONAS')]\n",
    "amazonas.head()"
   ]
  },
  {
   "cell_type": "code",
   "execution_count": 14,
   "metadata": {},
   "outputs": [],
   "source": [
    "# h = np.histogram(amazonas.iloc[:,5], bins = 10) # visualização de como ficará o q o plt vai acabar fazendo\n",
    "# h"
   ]
  },
  {
   "cell_type": "code",
   "execution_count": 15,
   "metadata": {},
   "outputs": [],
   "source": [
    "# Visualização do histograma com 6 divisões\n",
    "# plt.hist(amazonas.iloc[:,5], bins = 6) # plotar histograma na coluna 1 com 6 eixos. Cada eixo é um resumo do intervalo de dados em que está contido.\n",
    "# plt.title('Focos de Incêndio Amazonas')\n",
    "# plt.ylabel('Focos')\n",
    "# plt.xlabel('Ano')"
   ]
  },
  {
   "cell_type": "code",
   "execution_count": 16,
   "metadata": {},
   "outputs": [
    {
     "data": {
      "text/plain": [
       "state\n",
       "ACRE           126471\n",
       "AMAPA           39337\n",
       "AMAZONAS       188483\n",
       "MARANHAO       160543\n",
       "MATO GROSSO    595378\n",
       "PARA           942283\n",
       "RONDONIA       340517\n",
       "RORAIMA         46981\n",
       "TOCANTINS       16254\n",
       "Name: firespots, dtype: int64"
      ]
     },
     "execution_count": 16,
     "metadata": {},
     "output_type": "execute_result"
    }
   ],
   "source": [
    "agrupado = dados_inpe.groupby(['state'])['firespots'].sum()\n",
    "agrupado"
   ]
  },
  {
   "cell_type": "code",
   "execution_count": 17,
   "metadata": {},
   "outputs": [
    {
     "data": {
      "text/plain": [
       "year\n",
       "1999     1048\n",
       "2000      857\n",
       "2001     1297\n",
       "2002    10203\n",
       "2003    10191\n",
       "2004     8083\n",
       "2005    15644\n",
       "2006    11697\n",
       "2007    11293\n",
       "2008     6701\n",
       "2009     9280\n",
       "2010    12139\n",
       "2011     5028\n",
       "2012     9114\n",
       "2013     6512\n",
       "2014     9008\n",
       "2015    13419\n",
       "2016    11173\n",
       "2017    11685\n",
       "2018    11446\n",
       "2019    12665\n",
       "Name: firespots, dtype: int64"
      ]
     },
     "execution_count": 17,
     "metadata": {},
     "output_type": "execute_result"
    }
   ],
   "source": [
    "agrupado_ano_amazonas = amazonas.groupby(['year'])['firespots'].sum()\n",
    "agrupado_ano_amazonas"
   ]
  },
  {
   "cell_type": "code",
   "execution_count": 32,
   "metadata": {},
   "outputs": [
    {
     "data": {
      "text/plain": [
       "<matplotlib.axes._subplots.AxesSubplot at 0x7fb33ec39fa0>"
      ]
     },
     "execution_count": 32,
     "metadata": {},
     "output_type": "execute_result"
    },
    {
     "data": {
      "image/png": "[encoded data removed]",
      "text/plain": [
       "<Figure size 432x288 with 1 Axes>"
      ]
     },
     "metadata": {
      "needs_background": "light"
     },
     "output_type": "display_data"
    }
   ],
   "source": [
    "agrupado_ano_amazonas.plot.bar(color = 'red', title = 'Número de focos de incêndio anual no Amazonas')"
   ]
  },
  {
   "cell_type": "code",
   "execution_count": 31,
   "metadata": {},
   "outputs": [
    {
     "data": {
      "text/plain": [
       "<matplotlib.axes._subplots.AxesSubplot at 0x7fb33ecadfd0>"
      ]
     },
     "execution_count": 31,
     "metadata": {},
     "output_type": "execute_result"
    },
    {
     "data": {
      "image/png": "[encoded data removed]",
      "text/plain": [
       "<Figure size 432x288 with 1 Axes>"
      ]
     },
     "metadata": {
      "needs_background": "light"
     },
     "output_type": "display_data"
    }
   ],
   "source": [
    "para = dados_inpe.loc[(dados_inpe['state'] == 'PARA')]\n",
    "agrupado_para = para.groupby(['year'])['firespots'].sum()\n",
    "agrupado_para.plot.bar(color = 'red', title = 'Número de focos de incêndio anual no Para')"
   ]
  },
  {
   "cell_type": "code",
   "execution_count": 30,
   "metadata": {},
   "outputs": [
    {
     "data": {
      "text/plain": [
       "<matplotlib.axes._subplots.AxesSubplot at 0x7fb33ee0c820>"
      ]
     },
     "execution_count": 30,
     "metadata": {},
     "output_type": "execute_result"
    },
    {
     "data": {
      "image/png": "[encoded data removed]",
      "text/plain": [
       "<Figure size 432x288 with 1 Axes>"
      ]
     },
     "metadata": {
      "needs_background": "light"
     },
     "output_type": "display_data"
    }
   ],
   "source": [
    "mt = dados_inpe.loc[(dados_inpe['state'] == 'MATO GROSSO')]\n",
    "agrupado_mt = mt.groupby(['year'])['firespots'].sum()\n",
    "agrupado_mt.plot.bar(color = 'red', title = 'Número de focos de incêndio anual no Mato Grosso')"
   ]
  },
  {
   "cell_type": "code",
   "execution_count": null,
   "metadata": {},
   "outputs": [],
   "source": []
  }
 ],
 "metadata": {
  "kernelspec": {
   "display_name": "Python 3",
   "language": "python",
   "name": "python3"
  },
  "language_info": {
   "codemirror_mode": {
    "name": "ipython",
    "version": 3
   },
   "file_extension": ".py",
   "mimetype": "text/x-python",
   "name": "python",
   "nbconvert_exporter": "python",
   "pygments_lexer": "ipython3",
   "version": "3.8.3"
  }
 },
 "nbformat": 4,
 "nbformat_minor": 4
}
