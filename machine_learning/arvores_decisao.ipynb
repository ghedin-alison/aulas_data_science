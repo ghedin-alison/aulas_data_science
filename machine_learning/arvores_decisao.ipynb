{
 "cells": [
  {
   "cell_type": "code",
   "execution_count": 1,
   "metadata": {},
   "outputs": [],
   "source": [
    "# Machine Learning\n",
    "# Árvores de Decisão"
   ]
  },
  {
   "cell_type": "code",
   "execution_count": 3,
   "metadata": {},
   "outputs": [],
   "source": [
    "# Import das bibliotecas\n",
    "import pandas as pd\n",
    "from sklearn.model_selection import train_test_split\n",
    "from sklearn.preprocessing import LabelEncoder\n",
    "from sklearn.metrics import confusion_matrix, accuracy_score\n",
    "from sklearn.tree import DecisionTreeClassifier\n",
    "# import graphviz (problemas com graphviz que não consegui resolver!!Foi instalado mas não reconhece)\n",
    "# from sklearn.tree import export_graphviz"
   ]
  },
  {
   "cell_type": "code",
   "execution_count": 4,
   "metadata": {},
   "outputs": [
    {
     "data": {
      "text/plain": [
       "(1000, 21)"
      ]
     },
     "execution_count": 4,
     "metadata": {},
     "output_type": "execute_result"
    }
   ],
   "source": [
    "# Carregamento da base de dados \n",
    "credito = pd.read_csv('./dados/Credit.csv')\n",
    "credito.shape"
   ]
  },
  {
   "cell_type": "code",
   "execution_count": 6,
   "metadata": {},
   "outputs": [],
   "source": [
    "# Definição dos previsores(x -variáveis independente) e classe(y - variaveis dependentes)\n",
    "previsores = credito.iloc[:, 0:20].values\n",
    "classe = credito.iloc[:,20].values"
   ]
  },
  {
   "cell_type": "code",
   "execution_count": 7,
   "metadata": {},
   "outputs": [],
   "source": [
    "# Conversão dos atributos categoricos para atributos numéricos, passando o índice de cada atributo categórico\n",
    "labelencoder = LabelEncoder()\n",
    "previsores[:, 0] = labelencoder.fit_transform(previsores[:, 0])\n",
    "previsores[:, 2] = labelencoder.fit_transform(previsores[:, 2])\n",
    "previsores[:, 3] = labelencoder.fit_transform(previsores[:, 3])\n",
    "previsores[:, 5] = labelencoder.fit_transform(previsores[:, 5])\n",
    "previsores[:, 6] = labelencoder.fit_transform(previsores[:, 6])\n",
    "previsores[:, 8] = labelencoder.fit_transform(previsores[:, 8])\n",
    "previsores[:, 9] = labelencoder.fit_transform(previsores[:, 9])\n",
    "previsores[:, 11] = labelencoder.fit_transform(previsores[:, 11])\n",
    "previsores[:, 13] = labelencoder.fit_transform(previsores[:, 13])\n",
    "previsores[:, 14] = labelencoder.fit_transform(previsores[:, 14])\n",
    "previsores[:, 16] = labelencoder.fit_transform(previsores[:, 16])\n",
    "previsores[:, 18] = labelencoder.fit_transform(previsores[:, 18])\n",
    "previsores[:, 19] = labelencoder.fit_transform(previsores[:, 19])"
   ]
  },
  {
   "cell_type": "code",
   "execution_count": 9,
   "metadata": {},
   "outputs": [],
   "source": [
    "# Divisão da base de dados entre treinamento e teste. Usamos 30% para teste e 70% para treinamento. Random = 0 para sempre obter a mesma divisão da base quando o código for executado\n",
    "x_treina, x_teste, y_treina, y_teste = train_test_split(previsores, classe, test_size = 0.3, random_state = 0)"
   ]
  },
  {
   "cell_type": "code",
   "execution_count": 10,
   "metadata": {},
   "outputs": [
    {
     "data": {
      "text/plain": [
       "DecisionTreeClassifier()"
      ]
     },
     "execution_count": 10,
     "metadata": {},
     "output_type": "execute_result"
    }
   ],
   "source": [
    "# Criação e treinamento do modelo arvore\n",
    "arvore = DecisionTreeClassifier()\n",
    "arvore.fit(x_treina, y_treina)"
   ]
  },
  {
   "cell_type": "code",
   "execution_count": 11,
   "metadata": {},
   "outputs": [],
   "source": [
    "# Exportação da árvore de decisão para o formato .dot, para posterior visualização\n",
    "# export_graphviz(arvore, out_file = 'tree.dot')"
   ]
  },
  {
   "cell_type": "code",
   "execution_count": 13,
   "metadata": {},
   "outputs": [
    {
     "data": {
      "text/plain": [
       "array(['bad', 'bad', 'good', 'good', 'good', 'good', 'good', 'good',\n",
       "       'good', 'bad', 'bad', 'bad', 'bad', 'bad', 'bad', 'bad', 'good',\n",
       "       'good', 'bad', 'bad', 'good', 'bad', 'good', 'good', 'good', 'bad',\n",
       "       'good', 'good', 'good', 'bad', 'good', 'bad', 'bad', 'bad', 'good',\n",
       "       'bad', 'good', 'good', 'good', 'good', 'good', 'bad', 'good',\n",
       "       'good', 'good', 'good', 'good', 'bad', 'good', 'good', 'good',\n",
       "       'bad', 'bad', 'good', 'good', 'bad', 'good', 'good', 'good',\n",
       "       'good', 'bad', 'good', 'good', 'good', 'good', 'good', 'good',\n",
       "       'good', 'bad', 'good', 'good', 'good', 'bad', 'bad', 'good',\n",
       "       'good', 'bad', 'bad', 'good', 'good', 'good', 'good', 'good',\n",
       "       'good', 'good', 'good', 'bad', 'bad', 'good', 'good', 'good',\n",
       "       'bad', 'good', 'good', 'good', 'good', 'good', 'bad', 'good',\n",
       "       'bad', 'good', 'good', 'good', 'good', 'good', 'good', 'bad',\n",
       "       'bad', 'good', 'good', 'good', 'good', 'good', 'good', 'good',\n",
       "       'good', 'bad', 'good', 'bad', 'good', 'bad', 'good', 'good', 'bad',\n",
       "       'good', 'good', 'good', 'good', 'good', 'good', 'good', 'good',\n",
       "       'good', 'good', 'good', 'good', 'good', 'good', 'good', 'bad',\n",
       "       'bad', 'good', 'good', 'good', 'good', 'good', 'good', 'good',\n",
       "       'good', 'good', 'good', 'good', 'good', 'good', 'bad', 'good',\n",
       "       'good', 'good', 'good', 'good', 'bad', 'good', 'good', 'good',\n",
       "       'bad', 'bad', 'bad', 'good', 'good', 'good', 'bad', 'good', 'bad',\n",
       "       'good', 'good', 'bad', 'bad', 'bad', 'good', 'good', 'good',\n",
       "       'good', 'bad', 'bad', 'bad', 'good', 'good', 'good', 'bad', 'good',\n",
       "       'good', 'bad', 'good', 'good', 'good', 'bad', 'good', 'good',\n",
       "       'good', 'good', 'good', 'bad', 'bad', 'good', 'good', 'good',\n",
       "       'bad', 'good', 'good', 'good', 'bad', 'bad', 'good', 'good',\n",
       "       'good', 'bad', 'good', 'good', 'good', 'bad', 'bad', 'bad', 'good',\n",
       "       'good', 'good', 'good', 'good', 'bad', 'bad', 'good', 'good',\n",
       "       'good', 'bad', 'good', 'bad', 'bad', 'good', 'good', 'good',\n",
       "       'good', 'good', 'good', 'good', 'good', 'good', 'bad', 'good',\n",
       "       'bad', 'good', 'good', 'bad', 'bad', 'good', 'bad', 'good', 'good',\n",
       "       'good', 'good', 'good', 'bad', 'good', 'bad', 'good', 'good',\n",
       "       'bad', 'bad', 'good', 'good', 'good', 'bad', 'bad', 'good', 'good',\n",
       "       'good', 'good', 'good', 'good', 'good', 'bad', 'bad', 'good',\n",
       "       'bad', 'good', 'good', 'good', 'good', 'good', 'bad', 'bad', 'bad',\n",
       "       'bad', 'good', 'good', 'good', 'good', 'good', 'bad', 'good',\n",
       "       'bad', 'good'], dtype=object)"
      ]
     },
     "execution_count": 13,
     "metadata": {},
     "output_type": "execute_result"
    }
   ],
   "source": [
    "# obtenção das previsões com base no modelo treinado arvore\n",
    "previsoes = arvore.predict(x_teste)\n",
    "previsoes"
   ]
  },
  {
   "cell_type": "code",
   "execution_count": 14,
   "metadata": {},
   "outputs": [
    {
     "data": {
      "text/plain": [
       "array([[ 44,  42],\n",
       "       [ 48, 166]])"
      ]
     },
     "execution_count": 14,
     "metadata": {},
     "output_type": "execute_result"
    }
   ],
   "source": [
    "# matriz de confusão\n",
    "confusao = confusion_matrix(y_teste, previsoes)\n",
    "confusao"
   ]
  },
  {
   "cell_type": "code",
   "execution_count": 15,
   "metadata": {},
   "outputs": [
    {
     "data": {
      "text/plain": [
       "0.7"
      ]
     },
     "execution_count": 15,
     "metadata": {},
     "output_type": "execute_result"
    }
   ],
   "source": [
    "# taxa de acerto\n",
    "taxa_acerto = accuracy_score(y_teste, previsoes)\n",
    "taxa_acerto"
   ]
  },
  {
   "cell_type": "code",
   "execution_count": 16,
   "metadata": {},
   "outputs": [
    {
     "data": {
      "text/plain": [
       "0.30000000000000004"
      ]
     },
     "execution_count": 16,
     "metadata": {},
     "output_type": "execute_result"
    }
   ],
   "source": [
    "# Taxa de erro\n",
    "taxa_erro = 1 - taxa_acerto\n",
    "taxa_erro"
   ]
  },
  {
   "cell_type": "code",
   "execution_count": null,
   "metadata": {},
   "outputs": [],
   "source": []
  }
 ],
 "metadata": {
  "kernelspec": {
   "display_name": "Python 3",
   "language": "python",
   "name": "python3"
  },
  "language_info": {
   "codemirror_mode": {
    "name": "ipython",
    "version": 3
   },
   "file_extension": ".py",
   "mimetype": "text/x-python",
   "name": "python",
   "nbconvert_exporter": "python",
   "pygments_lexer": "ipython3",
   "version": "3.8.3"
  }
 },
 "nbformat": 4,
 "nbformat_minor": 4
}
