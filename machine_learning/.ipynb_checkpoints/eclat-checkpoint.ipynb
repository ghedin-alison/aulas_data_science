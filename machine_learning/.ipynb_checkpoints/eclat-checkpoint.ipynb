{
 "cells": [
  {
   "cell_type": "code",
   "execution_count": 1,
   "metadata": {},
   "outputs": [],
   "source": [
    "# Mineração de dados utilizando algoritmo ECLAT"
   ]
  },
  {
   "cell_type": "code",
   "execution_count": 2,
   "metadata": {},
   "outputs": [],
   "source": [
    "# Função pronta para o algoritmo ECLAT(atualmente o algoritmo não está disponível em uma biblioteca)\n",
    "import os\n",
    "import sys\n",
    "import numpy as np\n",
    "import datetime as dt\n",
    "from numpy import linalg as LA\n",
    "import optparse\n",
    "import argparse"
   ]
  },
  {
   "cell_type": "code",
   "execution_count": null,
   "metadata": {},
   "outputs": [],
   "source": [
    "# Variáveis globais\n",
    "# contendo todos os padrões frequentes\n",
    "F = []\n",
    "# Cálculo do tempo\n",
    "# hora_inicio = 0\n",
    "# hora_fim = 0\n",
    "\n",
    "# Classe pai\n",
    "class Pattern:\n",
    "    def __init__(self, item, tids):\n",
    "        \n",
    "#         List of item id's in the pattern\n",
    "        self.item_id = item    \n",
    "#         tid of the pattern\n",
    "        self.tid_list = tids\n",
    "    \n",
    "# Union operation of item Id's for two patterns to get ID of candidate pattern\n",
    "    def union_id(self, next_node):\n",
    "        t = set(self.item_id)\n",
    "        tt = set(next_node.item_id)\n",
    "        new = t | tt\n",
    "        new_id = list(new)\n",
    "        new_id.sort()\n",
    "        return new_id\n",
    "\n",
    "# Intersection of tids of two patterns to find tid of candidate pattern\n",
    "    def intersect_tid_list(self, next_node):\n",
    "        t = set(self.tid_list)\n",
    "        tt = set(next_node.tid_list)\n",
    "        new = t & tt\n",
    "        new_list = list(new)\n",
    "        new_list.sort()\n",
    "        return new_list\n",
    "    \n",
    "# Returns support value for the pattern    \n",
    "    def gerSup(self):\n",
    "        return len(self.tid_list)"
   ]
  }
 ],
 "metadata": {
  "kernelspec": {
   "display_name": "Python 3",
   "language": "python",
   "name": "python3"
  },
  "language_info": {
   "codemirror_mode": {
    "name": "ipython",
    "version": 3
   },
   "file_extension": ".py",
   "mimetype": "text/x-python",
   "name": "python",
   "nbconvert_exporter": "python",
   "pygments_lexer": "ipython3",
   "version": "3.8.3"
  }
 },
 "nbformat": 4,
 "nbformat_minor": 4
}
